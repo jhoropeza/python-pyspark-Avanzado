{
 "cells": [
  {
   "cell_type": "code",
   "execution_count": 6,
   "id": "f91ddba4",
   "metadata": {},
   "outputs": [],
   "source": [
    "import pandas as pd"
   ]
  },
  {
   "cell_type": "code",
   "execution_count": 7,
   "id": "b54c8b8d",
   "metadata": {},
   "outputs": [],
   "source": [
    "clientes = {\n",
    "'id_cliente': ['A100', 'B100', 'A200', 'C100'],\n",
    "    'ant': [3, 12, 1, 7], \n",
    "'consumo': [30,25,51,29]\n",
    "}\n"
   ]
  },
  {
   "cell_type": "code",
   "execution_count": 8,
   "id": "5fdf98db",
   "metadata": {},
   "outputs": [
    {
     "data": {
      "text/plain": [
       "{'id_cliente': ['A100', 'B100', 'A200', 'C100'],\n",
       " 'ant': [3, 12, 1, 7],\n",
       " 'consumo': [30, 25, 51, 29]}"
      ]
     },
     "execution_count": 8,
     "metadata": {},
     "output_type": "execute_result"
    }
   ],
   "source": [
    "clientes"
   ]
  },
  {
   "cell_type": "code",
   "execution_count": 9,
   "id": "5b15ba26",
   "metadata": {},
   "outputs": [
    {
     "data": {
      "text/html": [
       "<div>\n",
       "<style scoped>\n",
       "    .dataframe tbody tr th:only-of-type {\n",
       "        vertical-align: middle;\n",
       "    }\n",
       "\n",
       "    .dataframe tbody tr th {\n",
       "        vertical-align: top;\n",
       "    }\n",
       "\n",
       "    .dataframe thead th {\n",
       "        text-align: right;\n",
       "    }\n",
       "</style>\n",
       "<table border=\"1\" class=\"dataframe\">\n",
       "  <thead>\n",
       "    <tr style=\"text-align: right;\">\n",
       "      <th></th>\n",
       "      <th>id_cliente</th>\n",
       "      <th>ant</th>\n",
       "      <th>consumo</th>\n",
       "    </tr>\n",
       "  </thead>\n",
       "  <tbody>\n",
       "    <tr>\n",
       "      <th>0</th>\n",
       "      <td>A100</td>\n",
       "      <td>3</td>\n",
       "      <td>30</td>\n",
       "    </tr>\n",
       "    <tr>\n",
       "      <th>1</th>\n",
       "      <td>B100</td>\n",
       "      <td>12</td>\n",
       "      <td>25</td>\n",
       "    </tr>\n",
       "    <tr>\n",
       "      <th>2</th>\n",
       "      <td>A200</td>\n",
       "      <td>1</td>\n",
       "      <td>51</td>\n",
       "    </tr>\n",
       "    <tr>\n",
       "      <th>3</th>\n",
       "      <td>C100</td>\n",
       "      <td>7</td>\n",
       "      <td>29</td>\n",
       "    </tr>\n",
       "  </tbody>\n",
       "</table>\n",
       "</div>"
      ],
      "text/plain": [
       "  id_cliente  ant  consumo\n",
       "0       A100    3       30\n",
       "1       B100   12       25\n",
       "2       A200    1       51\n",
       "3       C100    7       29"
      ]
     },
     "execution_count": 9,
     "metadata": {},
     "output_type": "execute_result"
    }
   ],
   "source": [
    "df_clientes =pd.DataFrame(clientes)\n",
    "df_clientes"
   ]
  },
  {
   "cell_type": "code",
   "execution_count": 10,
   "id": "8ccdbc22",
   "metadata": {},
   "outputs": [
    {
     "data": {
      "text/plain": [
       "id_cliente    4\n",
       "ant           4\n",
       "consumo       4\n",
       "dtype: int64"
      ]
     },
     "execution_count": 10,
     "metadata": {},
     "output_type": "execute_result"
    }
   ],
   "source": [
    "df_clientes.count()"
   ]
  },
  {
   "cell_type": "code",
   "execution_count": 11,
   "id": "c07d1e78",
   "metadata": {},
   "outputs": [
    {
     "data": {
      "text/plain": [
       "id_cliente    object\n",
       "ant            int64\n",
       "consumo        int64\n",
       "dtype: object"
      ]
     },
     "execution_count": 11,
     "metadata": {},
     "output_type": "execute_result"
    }
   ],
   "source": [
    "df_clientes.dtypes"
   ]
  },
  {
   "cell_type": "code",
   "execution_count": 12,
   "id": "d5ebd210",
   "metadata": {},
   "outputs": [],
   "source": [
    "df_turistas_mad = pd.read_csv(\"ficheros\\\\TURISTAS_MAD.txt\",sep=';', header='infer')"
   ]
  },
  {
   "cell_type": "code",
   "execution_count": 15,
   "id": "2a07da0b",
   "metadata": {},
   "outputs": [
    {
     "data": {
      "text/html": [
       "<div>\n",
       "<style scoped>\n",
       "    .dataframe tbody tr th:only-of-type {\n",
       "        vertical-align: middle;\n",
       "    }\n",
       "\n",
       "    .dataframe tbody tr th {\n",
       "        vertical-align: top;\n",
       "    }\n",
       "\n",
       "    .dataframe thead th {\n",
       "        text-align: right;\n",
       "    }\n",
       "</style>\n",
       "<table border=\"1\" class=\"dataframe\">\n",
       "  <thead>\n",
       "    <tr style=\"text-align: right;\">\n",
       "      <th></th>\n",
       "      <th>id_turista</th>\n",
       "      <th>procedencia</th>\n",
       "      <th>fec_salida</th>\n",
       "      <th>fec_llegada</th>\n",
       "      <th>gasto</th>\n",
       "    </tr>\n",
       "  </thead>\n",
       "  <tbody>\n",
       "    <tr>\n",
       "      <th>0</th>\n",
       "      <td>5100501</td>\n",
       "      <td>America</td>\n",
       "      <td>21/12/18</td>\n",
       "      <td>13/12/18</td>\n",
       "      <td>920</td>\n",
       "    </tr>\n",
       "    <tr>\n",
       "      <th>1</th>\n",
       "      <td>5100502</td>\n",
       "      <td>Asia</td>\n",
       "      <td>21/12/18</td>\n",
       "      <td>12/12/18</td>\n",
       "      <td>1797</td>\n",
       "    </tr>\n",
       "    <tr>\n",
       "      <th>2</th>\n",
       "      <td>5100503</td>\n",
       "      <td>America</td>\n",
       "      <td>25/01/18</td>\n",
       "      <td>13/01/18</td>\n",
       "      <td>2172</td>\n",
       "    </tr>\n",
       "    <tr>\n",
       "      <th>3</th>\n",
       "      <td>5100504</td>\n",
       "      <td>Asia</td>\n",
       "      <td>26/01/18</td>\n",
       "      <td>13/01/18</td>\n",
       "      <td>1762</td>\n",
       "    </tr>\n",
       "    <tr>\n",
       "      <th>4</th>\n",
       "      <td>5100505</td>\n",
       "      <td>Europa</td>\n",
       "      <td>10/09/18</td>\n",
       "      <td>31/08/18</td>\n",
       "      <td>1070</td>\n",
       "    </tr>\n",
       "  </tbody>\n",
       "</table>\n",
       "</div>"
      ],
      "text/plain": [
       "   id_turista procedencia fec_salida fec_llegada  gasto\n",
       "0     5100501     America   21/12/18    13/12/18    920\n",
       "1     5100502        Asia   21/12/18    12/12/18   1797\n",
       "2     5100503     America   25/01/18    13/01/18   2172\n",
       "3     5100504        Asia   26/01/18    13/01/18   1762\n",
       "4     5100505      Europa   10/09/18    31/08/18   1070"
      ]
     },
     "execution_count": 15,
     "metadata": {},
     "output_type": "execute_result"
    }
   ],
   "source": [
    "df_turistas_mad.head()"
   ]
  },
  {
   "cell_type": "code",
   "execution_count": 16,
   "id": "5d621c0b",
   "metadata": {
    "scrolled": true
   },
   "outputs": [
    {
     "data": {
      "text/plain": [
       "id_turista      int64\n",
       "procedencia    object\n",
       "fec_salida     object\n",
       "fec_llegada    object\n",
       "gasto           int64\n",
       "dtype: object"
      ]
     },
     "execution_count": 16,
     "metadata": {},
     "output_type": "execute_result"
    }
   ],
   "source": [
    "df_turistas_mad.dtypes"
   ]
  },
  {
   "cell_type": "code",
   "execution_count": 17,
   "id": "44291679",
   "metadata": {},
   "outputs": [
    {
     "data": {
      "text/plain": [
       "(1000, 5)"
      ]
     },
     "execution_count": 17,
     "metadata": {},
     "output_type": "execute_result"
    }
   ],
   "source": [
    "df_turistas_mad.shape"
   ]
  },
  {
   "cell_type": "code",
   "execution_count": null,
   "id": "813ebc72",
   "metadata": {
    "scrolled": true
   },
   "outputs": [],
   "source": [
    "\n",
    "df_turistas_mad['fec_salida_2']=pd.to_datetime(df_turistas_mad['fec_salida'], format=\"%d/%m/%y\")\n",
    "df_turistas_mad['fec_llegado_2']=pd.to_datetime(df_turistas_mad['fec_llegada'], format=\"%d/%m/%y\")"
   ]
  },
  {
   "cell_type": "code",
   "execution_count": null,
   "id": "aad20d61",
   "metadata": {},
   "outputs": [],
   "source": [
    "df_turistas_mad.dtypes"
   ]
  },
  {
   "cell_type": "code",
   "execution_count": null,
   "id": "0669ee28",
   "metadata": {},
   "outputs": [],
   "source": [
    "df_turistas_mad['duracion'] = df_turistas_mad['fec_llegado_2']-df_turistas_mad['fec_salida_2']"
   ]
  },
  {
   "cell_type": "code",
   "execution_count": null,
   "id": "4a8aa015",
   "metadata": {},
   "outputs": [],
   "source": [
    "df_turistas_mad.head()"
   ]
  },
  {
   "cell_type": "code",
   "execution_count": null,
   "id": "c2a05030",
   "metadata": {},
   "outputs": [],
   "source": [
    "df_turistas_mad=df_turistas_mad.copy()"
   ]
  },
  {
   "cell_type": "code",
   "execution_count": null,
   "id": "5661bcb5",
   "metadata": {
    "scrolled": false
   },
   "outputs": [],
   "source": [
    "df_turistas_mad_2=df_turistas_mad.loc[0:10,['procedencia','id_turista']]"
   ]
  },
  {
   "cell_type": "code",
   "execution_count": null,
   "id": "b29e8456",
   "metadata": {},
   "outputs": [],
   "source": [
    "df_turistas_mad_2.head()"
   ]
  },
  {
   "cell_type": "code",
   "execution_count": null,
   "id": "f45dc431",
   "metadata": {},
   "outputs": [],
   "source": [
    "df_turistas_mad_2=df_turistas_mad.iloc[:,[2,4]].sample(10).copy()"
   ]
  },
  {
   "cell_type": "code",
   "execution_count": null,
   "id": "cc9fe6a6",
   "metadata": {},
   "outputs": [],
   "source": [
    "df_turistas_mad_2"
   ]
  },
  {
   "cell_type": "code",
   "execution_count": null,
   "id": "2ee15718",
   "metadata": {},
   "outputs": [],
   "source": [
    "dfl =sets(\"1\",\"2\")"
   ]
  },
  {
   "cell_type": "code",
   "execution_count": null,
   "id": "374cf606",
   "metadata": {},
   "outputs": [],
   "source": [
    "df_turistas"
   ]
  },
  {
   "cell_type": "code",
   "execution_count": 18,
   "id": "dcf5532c",
   "metadata": {},
   "outputs": [
    {
     "data": {
      "text/plain": [
       "<bound method DataFrame.to_string of      id_turista procedencia fec_salida fec_llegada  gasto\n",
       "0       5100501     America   21/12/18    13/12/18    920\n",
       "1       5100502        Asia   21/12/18    12/12/18   1797\n",
       "2       5100503     America   25/01/18    13/01/18   2172\n",
       "3       5100504        Asia   26/01/18    13/01/18   1762\n",
       "4       5100505      Europa   10/09/18    31/08/18   1070\n",
       "..          ...         ...        ...         ...    ...\n",
       "995     5101496        Asia   17/12/18    05/12/18   1098\n",
       "996     5101497      Europa   13/06/18    09/06/18    724\n",
       "997     5101498     America   04/04/18    28/03/18   1365\n",
       "998     5101499     America   13/04/18    31/03/18   1534\n",
       "999     5101500        Asia   28/05/18    19/05/18   2031\n",
       "\n",
       "[1000 rows x 5 columns]>"
      ]
     },
     "execution_count": 18,
     "metadata": {},
     "output_type": "execute_result"
    }
   ],
   "source": [
    "df_turistas_mad.to_string"
   ]
  },
  {
   "cell_type": "code",
   "execution_count": 20,
   "id": "1d4e01a4",
   "metadata": {},
   "outputs": [
    {
     "data": {
      "text/html": [
       "<div>\n",
       "<style scoped>\n",
       "    .dataframe tbody tr th:only-of-type {\n",
       "        vertical-align: middle;\n",
       "    }\n",
       "\n",
       "    .dataframe tbody tr th {\n",
       "        vertical-align: top;\n",
       "    }\n",
       "\n",
       "    .dataframe thead th {\n",
       "        text-align: right;\n",
       "    }\n",
       "</style>\n",
       "<table border=\"1\" class=\"dataframe\">\n",
       "  <thead>\n",
       "    <tr style=\"text-align: right;\">\n",
       "      <th></th>\n",
       "      <th>id_turista</th>\n",
       "      <th>procedencia</th>\n",
       "      <th>fec_salida</th>\n",
       "      <th>fec_llegada</th>\n",
       "      <th>gasto</th>\n",
       "    </tr>\n",
       "  </thead>\n",
       "  <tbody>\n",
       "    <tr>\n",
       "      <th>0</th>\n",
       "      <td>5100501</td>\n",
       "      <td>America</td>\n",
       "      <td>21/12/18</td>\n",
       "      <td>13/12/18</td>\n",
       "      <td>920</td>\n",
       "    </tr>\n",
       "    <tr>\n",
       "      <th>1</th>\n",
       "      <td>5100502</td>\n",
       "      <td>Asia</td>\n",
       "      <td>21/12/18</td>\n",
       "      <td>12/12/18</td>\n",
       "      <td>1797</td>\n",
       "    </tr>\n",
       "  </tbody>\n",
       "</table>\n",
       "</div>"
      ],
      "text/plain": [
       "   id_turista procedencia fec_salida fec_llegada  gasto\n",
       "0     5100501     America   21/12/18    13/12/18    920\n",
       "1     5100502        Asia   21/12/18    12/12/18   1797"
      ]
     },
     "execution_count": 20,
     "metadata": {},
     "output_type": "execute_result"
    }
   ],
   "source": [
    "df_turistas_mad.loc[[0,1]]"
   ]
  },
  {
   "cell_type": "code",
   "execution_count": null,
   "id": "0ffc0560",
   "metadata": {},
   "outputs": [],
   "source": []
  }
 ],
 "metadata": {
  "kernelspec": {
   "display_name": "Python 3 (ipykernel)",
   "language": "python",
   "name": "python3"
  },
  "language_info": {
   "codemirror_mode": {
    "name": "ipython",
    "version": 3
   },
   "file_extension": ".py",
   "mimetype": "text/x-python",
   "name": "python",
   "nbconvert_exporter": "python",
   "pygments_lexer": "ipython3",
   "version": "3.9.7"
  }
 },
 "nbformat": 4,
 "nbformat_minor": 5
}
