{
 "cells": [
  {
   "cell_type": "code",
   "execution_count": 2,
   "id": "1f1cabb5",
   "metadata": {},
   "outputs": [],
   "source": [
    "var =2"
   ]
  },
  {
   "cell_type": "markdown",
   "id": "fb9aa685",
   "metadata": {},
   "source": [
    "documentacion__ _script_"
   ]
  },
  {
   "cell_type": "code",
   "execution_count": 5,
   "id": "73c3e667",
   "metadata": {},
   "outputs": [
    {
     "data": {
      "text/plain": [
       "('hola', str, 1397992149616)"
      ]
     },
     "execution_count": 5,
     "metadata": {},
     "output_type": "execute_result"
    }
   ],
   "source": [
    "cad=\"hola\"\n",
    "cad, type(cad), id(cad)"
   ]
  },
  {
   "cell_type": "code",
   "execution_count": 6,
   "id": "8391f962",
   "metadata": {},
   "outputs": [
    {
     "data": {
      "text/plain": [
       "([1, 2, 3], list)"
      ]
     },
     "execution_count": 6,
     "metadata": {},
     "output_type": "execute_result"
    }
   ],
   "source": [
    "lista=[1,2,3]\n",
    "lista,type(lista)"
   ]
  },
  {
   "cell_type": "code",
   "execution_count": 7,
   "id": "fe261a56",
   "metadata": {},
   "outputs": [
    {
     "data": {
      "text/plain": [
       "[2, 2, 3]"
      ]
     },
     "execution_count": 7,
     "metadata": {},
     "output_type": "execute_result"
    }
   ],
   "source": [
    "lista[0]=2\n",
    "lista"
   ]
  },
  {
   "cell_type": "code",
   "execution_count": 8,
   "id": "9773b8a4",
   "metadata": {},
   "outputs": [
    {
     "ename": "TypeError",
     "evalue": "'tuple' object does not support item assignment",
     "output_type": "error",
     "traceback": [
      "\u001b[1;31m---------------------------------------------------------------------------\u001b[0m",
      "\u001b[1;31mTypeError\u001b[0m                                 Traceback (most recent call last)",
      "\u001b[1;32m~\\AppData\\Local\\Temp/ipykernel_13336/2674518034.py\u001b[0m in \u001b[0;36m<module>\u001b[1;34m\u001b[0m\n\u001b[0;32m      1\u001b[0m \u001b[0mtup\u001b[0m\u001b[1;33m=\u001b[0m\u001b[1;33m(\u001b[0m\u001b[1;36m1\u001b[0m\u001b[1;33m,\u001b[0m\u001b[1;36m2\u001b[0m\u001b[1;33m,\u001b[0m\u001b[1;36m3\u001b[0m\u001b[1;33m)\u001b[0m\u001b[1;33m\u001b[0m\u001b[1;33m\u001b[0m\u001b[0m\n\u001b[1;32m----> 2\u001b[1;33m \u001b[0mtup\u001b[0m\u001b[1;33m[\u001b[0m\u001b[1;36m0\u001b[0m\u001b[1;33m]\u001b[0m\u001b[1;33m=\u001b[0m\u001b[1;36m4\u001b[0m\u001b[1;33m\u001b[0m\u001b[1;33m\u001b[0m\u001b[0m\n\u001b[0m",
      "\u001b[1;31mTypeError\u001b[0m: 'tuple' object does not support item assignment"
     ]
    }
   ],
   "source": [
    "tup=(1,2,3)\n",
    "tup[0]=4"
   ]
  },
  {
   "cell_type": "code",
   "execution_count": null,
   "id": "c38a3116",
   "metadata": {},
   "outputs": [],
   "source": []
  },
  {
   "cell_type": "code",
   "execution_count": null,
   "id": "57078a86",
   "metadata": {},
   "outputs": [],
   "source": []
  },
  {
   "cell_type": "code",
   "execution_count": 26,
   "id": "16bbf924",
   "metadata": {},
   "outputs": [],
   "source": [
    "lis=range(4000000)"
   ]
  },
  {
   "cell_type": "code",
   "execution_count": 11,
   "id": "bfd358c8",
   "metadata": {},
   "outputs": [
    {
     "data": {
      "text/plain": [
       "100000"
      ]
     },
     "execution_count": 11,
     "metadata": {},
     "output_type": "execute_result"
    }
   ],
   "source": [
    "len(lis)"
   ]
  },
  {
   "cell_type": "markdown",
   "id": "44389d84",
   "metadata": {},
   "source": [
    "cada elemento multiplicar por 2 y sumar 5\n",
    "filtrar y quedarse con multiples de 5\n",
    "%%timeit"
   ]
  },
  {
   "cell_type": "code",
   "execution_count": 27,
   "id": "16c95ba1",
   "metadata": {},
   "outputs": [
    {
     "name": "stdout",
     "output_type": "stream",
     "text": [
      "881 ms ± 88.4 ms per loop (mean ± std. dev. of 7 runs, 1 loop each)\n"
     ]
    }
   ],
   "source": [
    "%%timeit\n",
    "lis2=list(map( lambda x:x*2+3,lis ))\n",
    "lis3=list(filter(lambda x: x% 5==0,lis2))"
   ]
  },
  {
   "cell_type": "code",
   "execution_count": 28,
   "id": "56fc6e46",
   "metadata": {},
   "outputs": [
    {
     "name": "stdout",
     "output_type": "stream",
     "text": [
      "822 ms ± 31.1 ms per loop (mean ± std. dev. of 7 runs, 1 loop each)\n"
     ]
    }
   ],
   "source": [
    "%%timeit\n",
    "lis3=list(filter(lambda x: x % 5 == 0, map(lambda x:x*2+3,lis)))"
   ]
  },
  {
   "cell_type": "code",
   "execution_count": null,
   "id": "0b29a7d1",
   "metadata": {},
   "outputs": [],
   "source": []
  }
 ],
 "metadata": {
  "kernelspec": {
   "display_name": "Python 3 (ipykernel)",
   "language": "python",
   "name": "python3"
  },
  "language_info": {
   "codemirror_mode": {
    "name": "ipython",
    "version": 3
   },
   "file_extension": ".py",
   "mimetype": "text/x-python",
   "name": "python",
   "nbconvert_exporter": "python",
   "pygments_lexer": "ipython3",
   "version": "3.9.7"
  }
 },
 "nbformat": 4,
 "nbformat_minor": 5
}
