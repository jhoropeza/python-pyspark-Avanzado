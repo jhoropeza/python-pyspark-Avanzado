{
 "cells": [
  {
   "cell_type": "markdown",
   "id": "f7ecca9d",
   "metadata": {},
   "source": [
    "a. Crear una lista con los siguientes elementos"
   ]
  },
  {
   "cell_type": "code",
   "execution_count": 1,
   "id": "cba2eaf0",
   "metadata": {},
   "outputs": [],
   "source": [
    "import numpy as np\n",
    "import pandas as pd"
   ]
  },
  {
   "cell_type": "code",
   "execution_count": 2,
   "id": "cdb8966d",
   "metadata": {},
   "outputs": [],
   "source": [
    "l=[3,6,9,5,6,7,8,11,5]\n"
   ]
  },
  {
   "cell_type": "code",
   "execution_count": 3,
   "id": "be296cd9",
   "metadata": {},
   "outputs": [],
   "source": [
    "arrnp1 = np.array(l)"
   ]
  },
  {
   "cell_type": "code",
   "execution_count": 4,
   "id": "d0b10307",
   "metadata": {},
   "outputs": [
    {
     "data": {
      "text/plain": [
       "array([ 3,  6,  9,  5,  6,  7,  8, 11,  5])"
      ]
     },
     "execution_count": 4,
     "metadata": {},
     "output_type": "execute_result"
    }
   ],
   "source": [
    "arrnp1"
   ]
  },
  {
   "cell_type": "markdown",
   "id": "975d0238",
   "metadata": {},
   "source": [
    "b. Obtener el valor máximo, el mínimo y el valor medio del array redondeado a 2 decimales"
   ]
  },
  {
   "cell_type": "code",
   "execution_count": 11,
   "id": "12c13f7d",
   "metadata": {},
   "outputs": [
    {
     "data": {
      "text/plain": [
       "(11, 3, 6.67)"
      ]
     },
     "execution_count": 11,
     "metadata": {},
     "output_type": "execute_result"
    }
   ],
   "source": [
    "vmax = arrnp1.max() \n",
    "vmin = arrnp1.min()\n",
    "vmed = arrnp1.mean()\n",
    "round(vmax,2), round(vmin,2),round(vmed,2)"
   ]
  },
  {
   "cell_type": "markdown",
   "id": "fa9f2250",
   "metadata": {},
   "source": [
    "c) Crear un segundo array numpy (arrnp2) y realizar las siguientes operaciones"
   ]
  },
  {
   "cell_type": "code",
   "execution_count": 12,
   "id": "d7eaee3a",
   "metadata": {},
   "outputs": [
    {
     "data": {
      "text/plain": [
       "array([ 5,  6,  3,  5,  7,  9,  4, 10,  3])"
      ]
     },
     "execution_count": 12,
     "metadata": {},
     "output_type": "execute_result"
    }
   ],
   "source": [
    "l2=[5,6,3,5,7,9,4,10,3]\n",
    "arrnp2= np.array(l2)\n",
    "arrnp2"
   ]
  },
  {
   "cell_type": "markdown",
   "id": "ee384414",
   "metadata": {},
   "source": [
    "➢ Sumar elemento a elemento arrnp1 con arrnp2\n",
    "➢ Concatenar arrnp1 con arrnp2\n",
    "➢ Añadir un elemento (20) al array resultante del paso anterior\n",
    "➢ Crear un nuevo array partiendo el array anterior con los elementos mayores que 5\n",
    "➢ Escribir a fichero el array resultado del paso anterior"
   ]
  },
  {
   "cell_type": "code",
   "execution_count": 16,
   "id": "756177ea",
   "metadata": {},
   "outputs": [
    {
     "data": {
      "text/plain": [
       "array([ 8, 12, 12, 10, 13, 16, 12, 21,  8])"
      ]
     },
     "execution_count": 16,
     "metadata": {},
     "output_type": "execute_result"
    }
   ],
   "source": [
    "#Sumar\n",
    "suma1 = arrnp1 + arrnp2\n",
    "suma1"
   ]
  },
  {
   "cell_type": "code",
   "execution_count": 15,
   "id": "cc9b6e7d",
   "metadata": {},
   "outputs": [],
   "source": [
    "#Concatenar\n",
    "arrnp_conca = np.concatenate([arrnp1, arrnp2])\n",
    "arrnp_conca"
   ]
  },
  {
   "cell_type": "code",
   "execution_count": 22,
   "id": "f36febe1",
   "metadata": {},
   "outputs": [
    {
     "data": {
      "text/plain": [
       "array([ 3,  6,  9,  5,  6,  7,  8, 11,  5,  5,  6,  3,  5,  7,  9,  4, 10,\n",
       "        3, 20, 20])"
      ]
     },
     "execution_count": 22,
     "metadata": {},
     "output_type": "execute_result"
    }
   ],
   "source": [
    "arrnp_conca=np.append(arrnp_conca,20)\n",
    "arrnp_conca"
   ]
  },
  {
   "cell_type": "code",
   "execution_count": 29,
   "id": "a9021d80",
   "metadata": {},
   "outputs": [
    {
     "data": {
      "text/plain": [
       "array([ 6,  9,  6,  7,  8, 11,  6,  7,  9, 10, 20, 20])"
      ]
     },
     "execution_count": 29,
     "metadata": {},
     "output_type": "execute_result"
    }
   ],
   "source": [
    "mayor_5=arrnp_conca[arrnp_conca>5]\n",
    "mayor_5"
   ]
  },
  {
   "cell_type": "code",
   "execution_count": null,
   "id": "b1e14026",
   "metadata": {},
   "outputs": [],
   "source": []
  },
  {
   "cell_type": "code",
   "execution_count": null,
   "id": "9d8a1e94",
   "metadata": {},
   "outputs": [],
   "source": []
  }
 ],
 "metadata": {
  "kernelspec": {
   "display_name": "Python 3 (ipykernel)",
   "language": "python",
   "name": "python3"
  },
  "language_info": {
   "codemirror_mode": {
    "name": "ipython",
    "version": 3
   },
   "file_extension": ".py",
   "mimetype": "text/x-python",
   "name": "python",
   "nbconvert_exporter": "python",
   "pygments_lexer": "ipython3",
   "version": "3.9.7"
  }
 },
 "nbformat": 4,
 "nbformat_minor": 5
}
