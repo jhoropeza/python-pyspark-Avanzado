{
 "cells": [
  {
   "cell_type": "code",
   "execution_count": null,
   "metadata": {},
   "outputs": [],
   "source": [
    "import numpy as np\n",
    "import pandas as pd"
   ]
  },
  {
   "cell_type": "markdown",
   "metadata": {},
   "source": [
    " # Prueba de Programación"
   ]
  },
  {
   "cell_type": "markdown",
   "metadata": {},
   "source": [
    "## Pregunta 1\n",
    "### En la siguiente tabla queremos encontrar, para cada cliente, la fecha en la que por primera vez la suma de sus ahorros es mayor a 1000€ "
   ]
  },
  {
   "cell_type": "code",
   "execution_count": null,
   "metadata": {},
   "outputs": [],
   "source": [
    "ahorros_pd = \\\n",
    "    pd.DataFrame.from_dict(\n",
    "        {'cliente': ['Cliente1', 'Cliente1', 'Cliente1', 'Cliente1', 'Cliente1', 'Cliente1',\n",
    "                'Cliente2', 'Cliente2', 'Cliente2', 'Cliente2', 'Cliente2', 'Cliente2',\n",
    "                'Cliente3', 'Cliente3', 'Cliente3', 'Cliente3', 'Cliente3', 'Cliente3',\n",
    "                'Cliente4', 'Cliente4', 'Cliente4', 'Cliente4', 'Cliente4', 'Cliente4'],\n",
    "        'fecha': [201901, 201902, 201903, 201904, 201905, 201906,\n",
    "                201901, 201902, 201903, 201904, 201905, 201906,\n",
    "                201901, 201902, 201903, 201904, 201905, 201906,\n",
    "                201901, 201902, 201903, 201904, 201905, 201906],\n",
    "        'ahorro': [150, 250, 0, 0, 0, 150,\n",
    "                    250, 300, 320, 370, 250, 1200,\n",
    "                    200, 100, 150, 0, 300, 300,\n",
    "                    330, 290, 150, 180, 270, 350]})"
   ]
  },
  {
   "cell_type": "code",
   "execution_count": null,
   "metadata": {},
   "outputs": [],
   "source": [
    "ahorros_pd"
   ]
  },
  {
   "cell_type": "code",
   "execution_count": null,
   "metadata": {},
   "outputs": [],
   "source": [
    "# Ordenamos el dataframe por verificar: aunque a simple vista parece ordenado\n",
    "\n",
    "df_ahorros_pd = ahorros_pd.sort_values(['cliente', 'fecha'], ascending=[True, True])"
   ]
  },
  {
   "cell_type": "code",
   "execution_count": null,
   "metadata": {
    "scrolled": true
   },
   "outputs": [],
   "source": [
    "df_ahorros_pd"
   ]
  },
  {
   "cell_type": "code",
   "execution_count": null,
   "metadata": {},
   "outputs": [],
   "source": [
    "# Agrupamos el dataset y creamos acumualdos de ahorro por cada fecha\n",
    "\n",
    "df_ahorros_acumulados = df_ahorros_pd.groupby(['cliente', 'fecha']).sum().groupby(level=0).cumsum().reset_index()"
   ]
  },
  {
   "cell_type": "code",
   "execution_count": null,
   "metadata": {},
   "outputs": [],
   "source": [
    "df_ahorros_acumulados"
   ]
  },
  {
   "cell_type": "code",
   "execution_count": null,
   "metadata": {},
   "outputs": [],
   "source": [
    "# Creamos fitro de Clientes con ahorros superiores a 1000 euros\n",
    "\n",
    "filtro_ahorro = df_ahorros_acumulados['ahorro'] > 1000"
   ]
  },
  {
   "cell_type": "code",
   "execution_count": null,
   "metadata": {},
   "outputs": [],
   "source": [
    "# aplicamos el filtro al set de datos\n",
    "\n",
    "df_resultado = df_ahorros_acumulados.loc[filtro_ahorro]"
   ]
  },
  {
   "cell_type": "code",
   "execution_count": null,
   "metadata": {},
   "outputs": [],
   "source": [
    "# Obtenemos el resultado de los clientes que superan mil euros y en que fechas.\n",
    "\n",
    "df_resultado.drop_duplicates(subset='cliente')"
   ]
  },
  {
   "cell_type": "code",
   "execution_count": null,
   "metadata": {},
   "outputs": [],
   "source": []
  },
  {
   "cell_type": "code",
   "execution_count": null,
   "metadata": {},
   "outputs": [],
   "source": []
  },
  {
   "cell_type": "code",
   "execution_count": null,
   "metadata": {},
   "outputs": [],
   "source": []
  }
 ],
 "metadata": {
  "kernelspec": {
   "display_name": "Python 3 (ipykernel)",
   "language": "python",
   "name": "python3"
  },
  "language_info": {
   "codemirror_mode": {
    "name": "ipython",
    "version": 3
   },
   "file_extension": ".py",
   "mimetype": "text/x-python",
   "name": "python",
   "nbconvert_exporter": "python",
   "pygments_lexer": "ipython3",
   "version": "3.9.7"
  }
 },
 "nbformat": 4,
 "nbformat_minor": 2
}
