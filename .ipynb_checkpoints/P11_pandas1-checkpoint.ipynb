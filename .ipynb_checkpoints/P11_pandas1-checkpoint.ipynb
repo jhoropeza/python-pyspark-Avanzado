{
 "cells": [
  {
   "cell_type": "markdown",
   "metadata": {},
   "source": [
    "# Trabajar con librería Pandas"
   ]
  },
  {
   "cell_type": "markdown",
   "metadata": {},
   "source": [
    " - Crear dataframe desde listas, diccionarios\n",
    " - Leer desde fichero\n",
    " - Trabajar con columnas\n",
    " - Filtros, ordenaciones\n",
    " - Tratar fechas\n",
    " - Agregados\n",
    " - Exportar ficheros"
   ]
  },
  {
   "cell_type": "markdown",
   "metadata": {},
   "source": [
    "Importamos la librería __Pandas__"
   ]
  },
  {
   "cell_type": "code",
   "execution_count": 23,
   "metadata": {},
   "outputs": [],
   "source": [
    "import pandas as pd  # pd es la abreviatura estandar"
   ]
  },
  {
   "cell_type": "markdown",
   "metadata": {},
   "source": [
    "Pasamos de un diccionario de listas a un dataframe (df) de Pandas"
   ]
  },
  {
   "cell_type": "code",
   "execution_count": 24,
   "metadata": {},
   "outputs": [
    {
     "data": {
      "text/plain": [
       "dict"
      ]
     },
     "execution_count": 24,
     "metadata": {},
     "output_type": "execute_result"
    }
   ],
   "source": [
    "clientes = {'nombre': ['Jorge', 'Luis', 'Pilar', 'Ana'],\n",
    "            'edad': [33, 25, 44, 27],\n",
    "            'ciudad': ['Valladolid', 'Madrid', 'Madrid', 'Cuenca']   \n",
    "            }\n",
    "type(clientes)"
   ]
  },
  {
   "cell_type": "code",
   "execution_count": 25,
   "metadata": {},
   "outputs": [
    {
     "name": "stdout",
     "output_type": "stream",
     "text": [
      "<class 'pandas.core.frame.DataFrame'>\n"
     ]
    },
    {
     "data": {
      "text/html": [
       "<div>\n",
       "<style scoped>\n",
       "    .dataframe tbody tr th:only-of-type {\n",
       "        vertical-align: middle;\n",
       "    }\n",
       "\n",
       "    .dataframe tbody tr th {\n",
       "        vertical-align: top;\n",
       "    }\n",
       "\n",
       "    .dataframe thead th {\n",
       "        text-align: right;\n",
       "    }\n",
       "</style>\n",
       "<table border=\"1\" class=\"dataframe\">\n",
       "  <thead>\n",
       "    <tr style=\"text-align: right;\">\n",
       "      <th></th>\n",
       "      <th>nombre</th>\n",
       "      <th>edad</th>\n",
       "      <th>ciudad</th>\n",
       "    </tr>\n",
       "  </thead>\n",
       "  <tbody>\n",
       "    <tr>\n",
       "      <th>0</th>\n",
       "      <td>Jorge</td>\n",
       "      <td>33</td>\n",
       "      <td>Valladolid</td>\n",
       "    </tr>\n",
       "    <tr>\n",
       "      <th>1</th>\n",
       "      <td>Luis</td>\n",
       "      <td>25</td>\n",
       "      <td>Madrid</td>\n",
       "    </tr>\n",
       "    <tr>\n",
       "      <th>2</th>\n",
       "      <td>Pilar</td>\n",
       "      <td>44</td>\n",
       "      <td>Madrid</td>\n",
       "    </tr>\n",
       "    <tr>\n",
       "      <th>3</th>\n",
       "      <td>Ana</td>\n",
       "      <td>27</td>\n",
       "      <td>Cuenca</td>\n",
       "    </tr>\n",
       "  </tbody>\n",
       "</table>\n",
       "</div>"
      ],
      "text/plain": [
       "  nombre  edad      ciudad\n",
       "0  Jorge    33  Valladolid\n",
       "1   Luis    25      Madrid\n",
       "2  Pilar    44      Madrid\n",
       "3    Ana    27      Cuenca"
      ]
     },
     "execution_count": 25,
     "metadata": {},
     "output_type": "execute_result"
    }
   ],
   "source": [
    "clientes = {'nombre': ['Jorge', 'Luis', 'Pilar', 'Ana'],\n",
    "            'edad': [33, 25, 44, 27],\n",
    "            'ciudad': ['Valladolid', 'Madrid', 'Madrid', 'Cuenca']   \n",
    "            }\n",
    "\n",
    "df_clientes = pd.DataFrame(clientes)\n",
    "# El df toma como nombres de las columnas los campos del diccionario\n",
    "print(type(df_clientes))\n",
    "df_clientes"
   ]
  },
  {
   "cell_type": "markdown",
   "metadata": {},
   "source": [
    "__Dimensiones__ del df"
   ]
  },
  {
   "cell_type": "code",
   "execution_count": 26,
   "metadata": {},
   "outputs": [
    {
     "name": "stdout",
     "output_type": "stream",
     "text": [
      "(4, 3)\n",
      "nombre    object\n",
      "edad       int64\n",
      "ciudad    object\n",
      "dtype: object\n"
     ]
    }
   ],
   "source": [
    "print(df_clientes.shape)\n",
    "print(df_clientes.dtypes)"
   ]
  },
  {
   "cell_type": "markdown",
   "metadata": {},
   "source": [
    "Crear un dataframe partiendo de una lista y especificando\n",
    "el nombre de las columnas"
   ]
  },
  {
   "cell_type": "code",
   "execution_count": 27,
   "metadata": {},
   "outputs": [
    {
     "data": {
      "text/html": [
       "<div>\n",
       "<style scoped>\n",
       "    .dataframe tbody tr th:only-of-type {\n",
       "        vertical-align: middle;\n",
       "    }\n",
       "\n",
       "    .dataframe tbody tr th {\n",
       "        vertical-align: top;\n",
       "    }\n",
       "\n",
       "    .dataframe thead th {\n",
       "        text-align: right;\n",
       "    }\n",
       "</style>\n",
       "<table border=\"1\" class=\"dataframe\">\n",
       "  <thead>\n",
       "    <tr style=\"text-align: right;\">\n",
       "      <th></th>\n",
       "      <th>nombre</th>\n",
       "      <th>edad</th>\n",
       "      <th>ciudad</th>\n",
       "    </tr>\n",
       "  </thead>\n",
       "  <tbody>\n",
       "    <tr>\n",
       "      <th>0</th>\n",
       "      <td>Jorge</td>\n",
       "      <td>33</td>\n",
       "      <td>Valladolid</td>\n",
       "    </tr>\n",
       "    <tr>\n",
       "      <th>1</th>\n",
       "      <td>Luis</td>\n",
       "      <td>25</td>\n",
       "      <td>Madrid</td>\n",
       "    </tr>\n",
       "    <tr>\n",
       "      <th>2</th>\n",
       "      <td>Pilar</td>\n",
       "      <td>44</td>\n",
       "      <td>Zaragoza</td>\n",
       "    </tr>\n",
       "    <tr>\n",
       "      <th>3</th>\n",
       "      <td>Ana</td>\n",
       "      <td>37</td>\n",
       "      <td>Cuenca</td>\n",
       "    </tr>\n",
       "  </tbody>\n",
       "</table>\n",
       "</div>"
      ],
      "text/plain": [
       "  nombre  edad      ciudad\n",
       "0  Jorge    33  Valladolid\n",
       "1   Luis    25      Madrid\n",
       "2  Pilar    44    Zaragoza\n",
       "3    Ana    37      Cuenca"
      ]
     },
     "execution_count": 27,
     "metadata": {},
     "output_type": "execute_result"
    }
   ],
   "source": [
    "l_clientes = [['Jorge', 33, 'Valladolid'],\n",
    "              ['Luis', 25, 'Madrid'],\n",
    "              ['Pilar', 44, 'Zaragoza'],\n",
    "              ['Ana', 37, 'Cuenca']] \n",
    "\n",
    "#df_clientes = pd.DataFrame(l_clientes) \n",
    "\n",
    "df_clientes = pd.DataFrame(l_clientes, \n",
    "   columns=['nombre', 'edad', 'ciudad'])\n",
    "df_clientes"
   ]
  },
  {
   "cell_type": "markdown",
   "metadata": {},
   "source": [
    "Crear un dataframe partiendo de una lista de diccionarios"
   ]
  },
  {
   "cell_type": "code",
   "execution_count": 28,
   "metadata": {},
   "outputs": [
    {
     "data": {
      "text/html": [
       "<div>\n",
       "<style scoped>\n",
       "    .dataframe tbody tr th:only-of-type {\n",
       "        vertical-align: middle;\n",
       "    }\n",
       "\n",
       "    .dataframe tbody tr th {\n",
       "        vertical-align: top;\n",
       "    }\n",
       "\n",
       "    .dataframe thead th {\n",
       "        text-align: right;\n",
       "    }\n",
       "</style>\n",
       "<table border=\"1\" class=\"dataframe\">\n",
       "  <thead>\n",
       "    <tr style=\"text-align: right;\">\n",
       "      <th></th>\n",
       "      <th>ciudad</th>\n",
       "      <th>ventas</th>\n",
       "      <th>centro</th>\n",
       "      <th>año</th>\n",
       "      <th>nueva</th>\n",
       "    </tr>\n",
       "  </thead>\n",
       "  <tbody>\n",
       "    <tr>\n",
       "      <th>0</th>\n",
       "      <td>Madrid</td>\n",
       "      <td>100</td>\n",
       "      <td>C1</td>\n",
       "      <td>2019</td>\n",
       "      <td>NaN</td>\n",
       "    </tr>\n",
       "    <tr>\n",
       "      <th>1</th>\n",
       "      <td>Valencia</td>\n",
       "      <td>100</td>\n",
       "      <td>NaN</td>\n",
       "      <td>2019</td>\n",
       "      <td>NaN</td>\n",
       "    </tr>\n",
       "    <tr>\n",
       "      <th>2</th>\n",
       "      <td>Murcia</td>\n",
       "      <td>100</td>\n",
       "      <td>C6</td>\n",
       "      <td>2019</td>\n",
       "      <td>NaN</td>\n",
       "    </tr>\n",
       "    <tr>\n",
       "      <th>3</th>\n",
       "      <td>NaN</td>\n",
       "      <td>100</td>\n",
       "      <td>C6</td>\n",
       "      <td>2019</td>\n",
       "      <td>50.0</td>\n",
       "    </tr>\n",
       "  </tbody>\n",
       "</table>\n",
       "</div>"
      ],
      "text/plain": [
       "     ciudad  ventas centro   año  nueva\n",
       "0    Madrid     100     C1  2019    NaN\n",
       "1  Valencia     100    NaN  2019    NaN\n",
       "2    Murcia     100     C6  2019    NaN\n",
       "3       NaN     100     C6  2019   50.0"
      ]
     },
     "execution_count": 28,
     "metadata": {},
     "output_type": "execute_result"
    }
   ],
   "source": [
    "lis_dic = [\n",
    "        {'ciudad': 'Madrid', 'ventas': 100, 'centro': 'C1', 'año': 2019},\n",
    "        {'ciudad': 'Valencia', 'ventas': 100, 'año': 2019},\n",
    "        {'ciudad': 'Murcia', 'ventas': 100, 'centro': 'C6', 'año': 2019},\n",
    "        { 'ventas': 100, 'centro': 'C6', 'año': 2019, 'nueva': 50}        \n",
    "        ]\n",
    "\n",
    "df = pd.DataFrame(lis_dic)\n",
    "df"
   ]
  },
  {
   "cell_type": "markdown",
   "metadata": {},
   "source": [
    "Lectura desde fichero: se indica el separador de campos y que infiera la cabecera\n",
    "\n",
    "Extracto:\n",
    "\n",
    "oficina;vendedor;producto;unidades\n",
    "\n",
    "Madrid;m_vendedor1;P1;20\n",
    "\n",
    "Madrid;m_vendedor1;P2;19\n",
    "\n",
    "Madrid;m_vendedor1;P3;8\n",
    "\n",
    "Madrid;m_vendedor1;P4;5"
   ]
  },
  {
   "cell_type": "markdown",
   "metadata": {},
   "source": [
    "Recorrer un DataFrame con un bucle"
   ]
  },
  {
   "cell_type": "code",
   "execution_count": 29,
   "metadata": {},
   "outputs": [
    {
     "data": {
      "text/html": [
       "<div>\n",
       "<style scoped>\n",
       "    .dataframe tbody tr th:only-of-type {\n",
       "        vertical-align: middle;\n",
       "    }\n",
       "\n",
       "    .dataframe tbody tr th {\n",
       "        vertical-align: top;\n",
       "    }\n",
       "\n",
       "    .dataframe thead th {\n",
       "        text-align: right;\n",
       "    }\n",
       "</style>\n",
       "<table border=\"1\" class=\"dataframe\">\n",
       "  <thead>\n",
       "    <tr style=\"text-align: right;\">\n",
       "      <th></th>\n",
       "      <th>ciudad</th>\n",
       "      <th>ventas</th>\n",
       "      <th>centro</th>\n",
       "      <th>año</th>\n",
       "      <th>nueva</th>\n",
       "    </tr>\n",
       "  </thead>\n",
       "  <tbody>\n",
       "    <tr>\n",
       "      <th>0</th>\n",
       "      <td>Madrid</td>\n",
       "      <td>100</td>\n",
       "      <td>C1</td>\n",
       "      <td>2019</td>\n",
       "      <td>NaN</td>\n",
       "    </tr>\n",
       "    <tr>\n",
       "      <th>1</th>\n",
       "      <td>Valencia</td>\n",
       "      <td>100</td>\n",
       "      <td>NaN</td>\n",
       "      <td>2019</td>\n",
       "      <td>NaN</td>\n",
       "    </tr>\n",
       "    <tr>\n",
       "      <th>2</th>\n",
       "      <td>Murcia</td>\n",
       "      <td>100</td>\n",
       "      <td>C6</td>\n",
       "      <td>2019</td>\n",
       "      <td>NaN</td>\n",
       "    </tr>\n",
       "    <tr>\n",
       "      <th>3</th>\n",
       "      <td>NaN</td>\n",
       "      <td>100</td>\n",
       "      <td>C6</td>\n",
       "      <td>2019</td>\n",
       "      <td>50.0</td>\n",
       "    </tr>\n",
       "  </tbody>\n",
       "</table>\n",
       "</div>"
      ],
      "text/plain": [
       "     ciudad  ventas centro   año  nueva\n",
       "0    Madrid     100     C1  2019    NaN\n",
       "1  Valencia     100    NaN  2019    NaN\n",
       "2    Murcia     100     C6  2019    NaN\n",
       "3       NaN     100     C6  2019   50.0"
      ]
     },
     "execution_count": 29,
     "metadata": {},
     "output_type": "execute_result"
    }
   ],
   "source": [
    "df"
   ]
  },
  {
   "cell_type": "code",
   "execution_count": 30,
   "metadata": {},
   "outputs": [
    {
     "name": "stdout",
     "output_type": "stream",
     "text": [
      "C1\n",
      "nan\n",
      "reemplazo nulo\n",
      "C6\n",
      "C6\n"
     ]
    },
    {
     "name": "stderr",
     "output_type": "stream",
     "text": [
      "C:\\Users\\jhoro\\AppData\\Local\\Temp/ipykernel_7820/2652130696.py:6: SettingWithCopyWarning: \n",
      "A value is trying to be set on a copy of a slice from a DataFrame\n",
      "\n",
      "See the caveats in the documentation: https://pandas.pydata.org/pandas-docs/stable/user_guide/indexing.html#returning-a-view-versus-a-copy\n",
      "  df['centro'][i] = 'Z9'\n"
     ]
    }
   ],
   "source": [
    "nrows = len(df)\n",
    "for i in range(nrows):\n",
    "    print(df['centro'][i])\n",
    "    if pd.isna(df['centro'][i]):\n",
    "        print(\"reemplazo nulo\")\n",
    "        df['centro'][i] = 'Z9'"
   ]
  },
  {
   "cell_type": "code",
   "execution_count": 31,
   "metadata": {},
   "outputs": [
    {
     "data": {
      "text/html": [
       "<div>\n",
       "<style scoped>\n",
       "    .dataframe tbody tr th:only-of-type {\n",
       "        vertical-align: middle;\n",
       "    }\n",
       "\n",
       "    .dataframe tbody tr th {\n",
       "        vertical-align: top;\n",
       "    }\n",
       "\n",
       "    .dataframe thead th {\n",
       "        text-align: right;\n",
       "    }\n",
       "</style>\n",
       "<table border=\"1\" class=\"dataframe\">\n",
       "  <thead>\n",
       "    <tr style=\"text-align: right;\">\n",
       "      <th></th>\n",
       "      <th>ciudad</th>\n",
       "      <th>ventas</th>\n",
       "      <th>centro</th>\n",
       "      <th>año</th>\n",
       "      <th>nueva</th>\n",
       "    </tr>\n",
       "  </thead>\n",
       "  <tbody>\n",
       "    <tr>\n",
       "      <th>0</th>\n",
       "      <td>Madrid</td>\n",
       "      <td>100</td>\n",
       "      <td>C1</td>\n",
       "      <td>2019</td>\n",
       "      <td>NaN</td>\n",
       "    </tr>\n",
       "    <tr>\n",
       "      <th>1</th>\n",
       "      <td>Valencia</td>\n",
       "      <td>100</td>\n",
       "      <td>Z9</td>\n",
       "      <td>2019</td>\n",
       "      <td>NaN</td>\n",
       "    </tr>\n",
       "    <tr>\n",
       "      <th>2</th>\n",
       "      <td>Murcia</td>\n",
       "      <td>100</td>\n",
       "      <td>C6</td>\n",
       "      <td>2019</td>\n",
       "      <td>NaN</td>\n",
       "    </tr>\n",
       "    <tr>\n",
       "      <th>3</th>\n",
       "      <td>NaN</td>\n",
       "      <td>100</td>\n",
       "      <td>C6</td>\n",
       "      <td>2019</td>\n",
       "      <td>50.0</td>\n",
       "    </tr>\n",
       "  </tbody>\n",
       "</table>\n",
       "</div>"
      ],
      "text/plain": [
       "     ciudad  ventas centro   año  nueva\n",
       "0    Madrid     100     C1  2019    NaN\n",
       "1  Valencia     100     Z9  2019    NaN\n",
       "2    Murcia     100     C6  2019    NaN\n",
       "3       NaN     100     C6  2019   50.0"
      ]
     },
     "execution_count": 31,
     "metadata": {},
     "output_type": "execute_result"
    }
   ],
   "source": [
    "df"
   ]
  },
  {
   "cell_type": "markdown",
   "metadata": {},
   "source": [
    "Objeto serie de Pandas"
   ]
  },
  {
   "cell_type": "code",
   "execution_count": 32,
   "metadata": {},
   "outputs": [
    {
     "data": {
      "text/plain": [
       "Ene      33\n",
       "Feb      51\n",
       "Mar      48\n",
       "Abril    38\n",
       "Mayo     57\n",
       "Junio    63\n",
       "dtype: int64"
      ]
     },
     "execution_count": 32,
     "metadata": {},
     "output_type": "execute_result"
    }
   ],
   "source": [
    "serie_hist = pd.Series(index=['Ene', 'Feb', 'Mar', 'Abril', 'Mayo', 'Junio'] , \n",
    "                                            data =[33,51,48,38,57,63])\n",
    "serie_hist"
   ]
  },
  {
   "cell_type": "code",
   "execution_count": 33,
   "metadata": {},
   "outputs": [
    {
     "data": {
      "text/plain": [
       "33"
      ]
     },
     "execution_count": 33,
     "metadata": {},
     "output_type": "execute_result"
    }
   ],
   "source": [
    "serie_hist['Ene']"
   ]
  },
  {
   "cell_type": "code",
   "execution_count": 34,
   "metadata": {},
   "outputs": [
    {
     "data": {
      "text/plain": [
       "Feb      51\n",
       "Mayo     57\n",
       "Junio    63\n",
       "dtype: int64"
      ]
     },
     "execution_count": 34,
     "metadata": {},
     "output_type": "execute_result"
    }
   ],
   "source": [
    "serie_hist[(serie_hist > 50)]"
   ]
  },
  {
   "cell_type": "markdown",
   "metadata": {},
   "source": [
    "Crear un DataFrame partiendo de series"
   ]
  },
  {
   "cell_type": "code",
   "execution_count": 35,
   "metadata": {},
   "outputs": [
    {
     "data": {
      "text/html": [
       "<div>\n",
       "<style scoped>\n",
       "    .dataframe tbody tr th:only-of-type {\n",
       "        vertical-align: middle;\n",
       "    }\n",
       "\n",
       "    .dataframe tbody tr th {\n",
       "        vertical-align: top;\n",
       "    }\n",
       "\n",
       "    .dataframe thead th {\n",
       "        text-align: right;\n",
       "    }\n",
       "</style>\n",
       "<table border=\"1\" class=\"dataframe\">\n",
       "  <thead>\n",
       "    <tr style=\"text-align: right;\">\n",
       "      <th></th>\n",
       "      <th>edad</th>\n",
       "      <th>consumo</th>\n",
       "    </tr>\n",
       "  </thead>\n",
       "  <tbody>\n",
       "    <tr>\n",
       "      <th>c1</th>\n",
       "      <td>33</td>\n",
       "      <td>100</td>\n",
       "    </tr>\n",
       "    <tr>\n",
       "      <th>c2</th>\n",
       "      <td>31</td>\n",
       "      <td>141</td>\n",
       "    </tr>\n",
       "    <tr>\n",
       "      <th>c3</th>\n",
       "      <td>28</td>\n",
       "      <td>200</td>\n",
       "    </tr>\n",
       "  </tbody>\n",
       "</table>\n",
       "</div>"
      ],
      "text/plain": [
       "    edad  consumo\n",
       "c1    33      100\n",
       "c2    31      141\n",
       "c3    28      200"
      ]
     },
     "execution_count": 35,
     "metadata": {},
     "output_type": "execute_result"
    }
   ],
   "source": [
    "customer = {'edad' : pd.Series(index=['c1', 'c2', 'c3'] , data =[33,31,28]),\n",
    "            'consumo' : pd.Series(index=['c1', 'c2', 'c3'] , data =[100,141,200])}\n",
    "df_cus = pd.DataFrame(customer) \n",
    "df_cus"
   ]
  },
  {
   "cell_type": "markdown",
   "metadata": {},
   "source": [
    "Leer DataFrame desde fichero"
   ]
  },
  {
   "cell_type": "code",
   "execution_count": 36,
   "metadata": {
    "scrolled": true
   },
   "outputs": [
    {
     "data": {
      "text/html": [
       "<div>\n",
       "<style scoped>\n",
       "    .dataframe tbody tr th:only-of-type {\n",
       "        vertical-align: middle;\n",
       "    }\n",
       "\n",
       "    .dataframe tbody tr th {\n",
       "        vertical-align: top;\n",
       "    }\n",
       "\n",
       "    .dataframe thead th {\n",
       "        text-align: right;\n",
       "    }\n",
       "</style>\n",
       "<table border=\"1\" class=\"dataframe\">\n",
       "  <thead>\n",
       "    <tr style=\"text-align: right;\">\n",
       "      <th></th>\n",
       "      <th>oficina</th>\n",
       "      <th>vendedor</th>\n",
       "      <th>producto</th>\n",
       "      <th>unidades</th>\n",
       "    </tr>\n",
       "  </thead>\n",
       "  <tbody>\n",
       "    <tr>\n",
       "      <th>0</th>\n",
       "      <td>Madrid</td>\n",
       "      <td>m_vendedor1</td>\n",
       "      <td>P1</td>\n",
       "      <td>20</td>\n",
       "    </tr>\n",
       "    <tr>\n",
       "      <th>1</th>\n",
       "      <td>Madrid</td>\n",
       "      <td>m_vendedor1</td>\n",
       "      <td>P2</td>\n",
       "      <td>19</td>\n",
       "    </tr>\n",
       "    <tr>\n",
       "      <th>2</th>\n",
       "      <td>Madrid</td>\n",
       "      <td>m_vendedor1</td>\n",
       "      <td>P3</td>\n",
       "      <td>8</td>\n",
       "    </tr>\n",
       "    <tr>\n",
       "      <th>3</th>\n",
       "      <td>Madrid</td>\n",
       "      <td>m_vendedor1</td>\n",
       "      <td>P4</td>\n",
       "      <td>5</td>\n",
       "    </tr>\n",
       "    <tr>\n",
       "      <th>4</th>\n",
       "      <td>Madrid</td>\n",
       "      <td>m_vendedor1</td>\n",
       "      <td>P5</td>\n",
       "      <td>18</td>\n",
       "    </tr>\n",
       "    <tr>\n",
       "      <th>5</th>\n",
       "      <td>Madrid</td>\n",
       "      <td>m_vendedor4</td>\n",
       "      <td>P14</td>\n",
       "      <td>1</td>\n",
       "    </tr>\n",
       "    <tr>\n",
       "      <th>6</th>\n",
       "      <td>Madrid</td>\n",
       "      <td>m_vendedor4</td>\n",
       "      <td>P15</td>\n",
       "      <td>7</td>\n",
       "    </tr>\n",
       "    <tr>\n",
       "      <th>7</th>\n",
       "      <td>Valencia</td>\n",
       "      <td>v_vendedor1</td>\n",
       "      <td>P10</td>\n",
       "      <td>1</td>\n",
       "    </tr>\n",
       "    <tr>\n",
       "      <th>8</th>\n",
       "      <td>Valencia</td>\n",
       "      <td>v_vendedor1</td>\n",
       "      <td>P11</td>\n",
       "      <td>2</td>\n",
       "    </tr>\n",
       "    <tr>\n",
       "      <th>9</th>\n",
       "      <td>Valencia</td>\n",
       "      <td>v_vendedor1</td>\n",
       "      <td>P12</td>\n",
       "      <td>0</td>\n",
       "    </tr>\n",
       "  </tbody>\n",
       "</table>\n",
       "</div>"
      ],
      "text/plain": [
       "    oficina     vendedor producto  unidades\n",
       "0    Madrid  m_vendedor1       P1        20\n",
       "1    Madrid  m_vendedor1       P2        19\n",
       "2    Madrid  m_vendedor1       P3         8\n",
       "3    Madrid  m_vendedor1       P4         5\n",
       "4    Madrid  m_vendedor1       P5        18\n",
       "5    Madrid  m_vendedor4      P14         1\n",
       "6    Madrid  m_vendedor4      P15         7\n",
       "7  Valencia  v_vendedor1      P10         1\n",
       "8  Valencia  v_vendedor1      P11         2\n",
       "9  Valencia  v_vendedor1      P12         0"
      ]
     },
     "execution_count": 36,
     "metadata": {},
     "output_type": "execute_result"
    }
   ],
   "source": [
    "df_ventas = pd.read_csv(\"../Curso Python Avanzado/ficheros/f_ventas1.txt\",\n",
    "                 sep=';', header='infer')\n",
    "df_ventas.head(10)"
   ]
  },
  {
   "cell_type": "code",
   "execution_count": 37,
   "metadata": {},
   "outputs": [
    {
     "name": "stdout",
     "output_type": "stream",
     "text": [
      " El volumen de la unidad C es Windows\n",
      " El n£mero de serie del volumen es: 02CF-4724\n",
      "\n",
      " Directorio de C:\\Users\\jhoro\\Curso Python Avanzado\n",
      "\n",
      "31/03/2022  14:10    <DIR>          .\n",
      "17/03/2022  19:47    <DIR>          ..\n",
      "24/03/2022  20:46    <DIR>          .ipynb_checkpoints\n",
      "24/03/2022  19:43             2.423 EJ09_pandas2_b (1).ipynb\n",
      "24/03/2022  19:19            17.213 EJ09_pandas2_b.ipynb\n",
      "03/03/2022  22:04             5.004 Ejemplos iniciales.ipynb\n",
      "24/03/2022  20:29             4.959 ejercicios de numpy.ipynb\n",
      "24/03/2022  19:34            19.054 Ejercicio_1.ipynb\n",
      "10/03/2022  19:57    <DIR>          ficheros\n",
      "24/03/2022  19:40            68.394 nulos.ipynb\n",
      "10/03/2022  19:19            34.523 P08_funciones.ipynb\n",
      "31/03/2022  14:10            63.996 P11_pandas1.ipynb\n",
      "17/03/2022  21:24           145.375 P12_pandas2.ipynb\n",
      "24/03/2022  20:19            33.607 P13_numpy.ipynb\n",
      "              10 archivos        394.548 bytes\n",
      "               4 dirs  433.986.019.328 bytes libres\n"
     ]
    }
   ],
   "source": [
    "!dir"
   ]
  },
  {
   "cell_type": "code",
   "execution_count": 38,
   "metadata": {},
   "outputs": [
    {
     "data": {
      "text/html": [
       "<div>\n",
       "<style scoped>\n",
       "    .dataframe tbody tr th:only-of-type {\n",
       "        vertical-align: middle;\n",
       "    }\n",
       "\n",
       "    .dataframe tbody tr th {\n",
       "        vertical-align: top;\n",
       "    }\n",
       "\n",
       "    .dataframe thead th {\n",
       "        text-align: right;\n",
       "    }\n",
       "</style>\n",
       "<table border=\"1\" class=\"dataframe\">\n",
       "  <thead>\n",
       "    <tr style=\"text-align: right;\">\n",
       "      <th></th>\n",
       "      <th>oficina</th>\n",
       "      <th>vendedor</th>\n",
       "      <th>producto</th>\n",
       "      <th>unidades</th>\n",
       "    </tr>\n",
       "  </thead>\n",
       "  <tbody>\n",
       "    <tr>\n",
       "      <th>0</th>\n",
       "      <td>Madrid</td>\n",
       "      <td>m_vendedor1</td>\n",
       "      <td>P1</td>\n",
       "      <td>20</td>\n",
       "    </tr>\n",
       "    <tr>\n",
       "      <th>1</th>\n",
       "      <td>Madrid</td>\n",
       "      <td>m_vendedor1</td>\n",
       "      <td>P2</td>\n",
       "      <td>19</td>\n",
       "    </tr>\n",
       "    <tr>\n",
       "      <th>2</th>\n",
       "      <td>Madrid</td>\n",
       "      <td>m_vendedor1</td>\n",
       "      <td>P3</td>\n",
       "      <td>8</td>\n",
       "    </tr>\n",
       "    <tr>\n",
       "      <th>3</th>\n",
       "      <td>Madrid</td>\n",
       "      <td>m_vendedor1</td>\n",
       "      <td>P4</td>\n",
       "      <td>5</td>\n",
       "    </tr>\n",
       "    <tr>\n",
       "      <th>4</th>\n",
       "      <td>Madrid</td>\n",
       "      <td>m_vendedor1</td>\n",
       "      <td>P5</td>\n",
       "      <td>18</td>\n",
       "    </tr>\n",
       "    <tr>\n",
       "      <th>5</th>\n",
       "      <td>Madrid</td>\n",
       "      <td>m_vendedor4</td>\n",
       "      <td>P14</td>\n",
       "      <td>1</td>\n",
       "    </tr>\n",
       "    <tr>\n",
       "      <th>6</th>\n",
       "      <td>Madrid</td>\n",
       "      <td>m_vendedor4</td>\n",
       "      <td>P15</td>\n",
       "      <td>7</td>\n",
       "    </tr>\n",
       "    <tr>\n",
       "      <th>7</th>\n",
       "      <td>Valencia</td>\n",
       "      <td>v_vendedor1</td>\n",
       "      <td>P10</td>\n",
       "      <td>1</td>\n",
       "    </tr>\n",
       "    <tr>\n",
       "      <th>8</th>\n",
       "      <td>Valencia</td>\n",
       "      <td>v_vendedor1</td>\n",
       "      <td>P11</td>\n",
       "      <td>2</td>\n",
       "    </tr>\n",
       "    <tr>\n",
       "      <th>9</th>\n",
       "      <td>Valencia</td>\n",
       "      <td>v_vendedor1</td>\n",
       "      <td>P12</td>\n",
       "      <td>0</td>\n",
       "    </tr>\n",
       "  </tbody>\n",
       "</table>\n",
       "</div>"
      ],
      "text/plain": [
       "    oficina     vendedor producto  unidades\n",
       "0    Madrid  m_vendedor1       P1        20\n",
       "1    Madrid  m_vendedor1       P2        19\n",
       "2    Madrid  m_vendedor1       P3         8\n",
       "3    Madrid  m_vendedor1       P4         5\n",
       "4    Madrid  m_vendedor1       P5        18\n",
       "5    Madrid  m_vendedor4      P14         1\n",
       "6    Madrid  m_vendedor4      P15         7\n",
       "7  Valencia  v_vendedor1      P10         1\n",
       "8  Valencia  v_vendedor1      P11         2\n",
       "9  Valencia  v_vendedor1      P12         0"
      ]
     },
     "execution_count": 38,
     "metadata": {},
     "output_type": "execute_result"
    }
   ],
   "source": [
    "df_ventas = pd.read_csv(\"ficheros\\\\f_ventas1.csv\",\n",
    "                 sep=';', header='infer')\n",
    "df_ventas.head(10)"
   ]
  },
  {
   "cell_type": "code",
   "execution_count": 40,
   "metadata": {},
   "outputs": [
    {
     "data": {
      "text/html": [
       "<div>\n",
       "<style scoped>\n",
       "    .dataframe tbody tr th:only-of-type {\n",
       "        vertical-align: middle;\n",
       "    }\n",
       "\n",
       "    .dataframe tbody tr th {\n",
       "        vertical-align: top;\n",
       "    }\n",
       "\n",
       "    .dataframe thead th {\n",
       "        text-align: right;\n",
       "    }\n",
       "</style>\n",
       "<table border=\"1\" class=\"dataframe\">\n",
       "  <thead>\n",
       "    <tr style=\"text-align: right;\">\n",
       "      <th></th>\n",
       "      <th>oficina</th>\n",
       "      <th>vendedor</th>\n",
       "      <th>producto</th>\n",
       "      <th>unidades</th>\n",
       "    </tr>\n",
       "  </thead>\n",
       "  <tbody>\n",
       "    <tr>\n",
       "      <th>0</th>\n",
       "      <td>Madrid</td>\n",
       "      <td>m_vendedor1</td>\n",
       "      <td>P1</td>\n",
       "      <td>20</td>\n",
       "    </tr>\n",
       "    <tr>\n",
       "      <th>1</th>\n",
       "      <td>Madrid</td>\n",
       "      <td>m_vendedor1</td>\n",
       "      <td>P2</td>\n",
       "      <td>19</td>\n",
       "    </tr>\n",
       "    <tr>\n",
       "      <th>2</th>\n",
       "      <td>Madrid</td>\n",
       "      <td>m_vendedor1</td>\n",
       "      <td>P3</td>\n",
       "      <td>8</td>\n",
       "    </tr>\n",
       "    <tr>\n",
       "      <th>3</th>\n",
       "      <td>Madrid</td>\n",
       "      <td>m_vendedor1</td>\n",
       "      <td>P4</td>\n",
       "      <td>5</td>\n",
       "    </tr>\n",
       "    <tr>\n",
       "      <th>4</th>\n",
       "      <td>Madrid</td>\n",
       "      <td>m_vendedor1</td>\n",
       "      <td>P5</td>\n",
       "      <td>18</td>\n",
       "    </tr>\n",
       "    <tr>\n",
       "      <th>5</th>\n",
       "      <td>Madrid</td>\n",
       "      <td>m_vendedor4</td>\n",
       "      <td>P14</td>\n",
       "      <td>1</td>\n",
       "    </tr>\n",
       "    <tr>\n",
       "      <th>6</th>\n",
       "      <td>Madrid</td>\n",
       "      <td>m_vendedor4</td>\n",
       "      <td>P15</td>\n",
       "      <td>7</td>\n",
       "    </tr>\n",
       "    <tr>\n",
       "      <th>7</th>\n",
       "      <td>Valencia</td>\n",
       "      <td>v_vendedor1</td>\n",
       "      <td>P10</td>\n",
       "      <td>1</td>\n",
       "    </tr>\n",
       "    <tr>\n",
       "      <th>8</th>\n",
       "      <td>Valencia</td>\n",
       "      <td>v_vendedor1</td>\n",
       "      <td>P11</td>\n",
       "      <td>2</td>\n",
       "    </tr>\n",
       "    <tr>\n",
       "      <th>9</th>\n",
       "      <td>Valencia</td>\n",
       "      <td>v_vendedor1</td>\n",
       "      <td>P12</td>\n",
       "      <td>0</td>\n",
       "    </tr>\n",
       "  </tbody>\n",
       "</table>\n",
       "</div>"
      ],
      "text/plain": [
       "    oficina     vendedor producto  unidades\n",
       "0    Madrid  m_vendedor1       P1        20\n",
       "1    Madrid  m_vendedor1       P2        19\n",
       "2    Madrid  m_vendedor1       P3         8\n",
       "3    Madrid  m_vendedor1       P4         5\n",
       "4    Madrid  m_vendedor1       P5        18\n",
       "5    Madrid  m_vendedor4      P14         1\n",
       "6    Madrid  m_vendedor4      P15         7\n",
       "7  Valencia  v_vendedor1      P10         1\n",
       "8  Valencia  v_vendedor1      P11         2\n",
       "9  Valencia  v_vendedor1      P12         0"
      ]
     },
     "execution_count": 40,
     "metadata": {},
     "output_type": "execute_result"
    }
   ],
   "source": [
    "# Si la carpeta del fichero estuviera al mismo nivel que la ruta del script \n",
    "# ponemos .. y luego el nombre de la carpeta donde está\n",
    "df_ventas = pd.read_csv(\"../Curso Python Avanzado/ficheros/f_ventas1.csv\",\n",
    "                 sep=';', header='infer')\n",
    "df_ventas.head(10)"
   ]
  },
  {
   "cell_type": "markdown",
   "metadata": {},
   "source": [
    "Obtener los 5 __primeras filas__"
   ]
  },
  {
   "cell_type": "code",
   "execution_count": null,
   "metadata": {},
   "outputs": [],
   "source": [
    "df_ventas.dtypes"
   ]
  },
  {
   "cell_type": "markdown",
   "metadata": {},
   "source": [
    "Se puede especificar los tipos en la lectura. Esto reduce tiempos en ficheros voluminoso"
   ]
  },
  {
   "cell_type": "code",
   "execution_count": null,
   "metadata": {},
   "outputs": [],
   "source": [
    "tipos = {'oficina': 'str', 'vendedor': 'str', 'producto': 'str', 'unidades': 'int'}\n",
    "df_ventas = pd.read_csv(\"ficheros\\\\f_ventas1.csv\",\n",
    "                 sep=';', header='infer', dtype=tipos)\n",
    "df_ventas.head(10)"
   ]
  },
  {
   "cell_type": "code",
   "execution_count": null,
   "metadata": {},
   "outputs": [],
   "source": [
    "df_ventas.dtypes"
   ]
  },
  {
   "cell_type": "markdown",
   "metadata": {},
   "source": [
    "__Numero__ de __filas__"
   ]
  },
  {
   "cell_type": "code",
   "execution_count": null,
   "metadata": {},
   "outputs": [],
   "source": [
    "df_ventas.count()"
   ]
  },
  {
   "cell_type": "markdown",
   "metadata": {},
   "source": [
    "Obtener una __muestra__ del df"
   ]
  },
  {
   "cell_type": "code",
   "execution_count": null,
   "metadata": {},
   "outputs": [],
   "source": [
    "df_ventas.sample(2)"
   ]
  },
  {
   "cell_type": "markdown",
   "metadata": {},
   "source": [
    "Tipos de datos los campos"
   ]
  },
  {
   "cell_type": "code",
   "execution_count": null,
   "metadata": {},
   "outputs": [],
   "source": [
    "df_ventas.dtypes"
   ]
  },
  {
   "cell_type": "markdown",
   "metadata": {},
   "source": [
    "Otra forma de leer manejando la ruta y nombre del fichero con variables"
   ]
  },
  {
   "cell_type": "code",
   "execution_count": null,
   "metadata": {},
   "outputs": [],
   "source": [
    "ruta = \"ficheros\\\\\"\n",
    "nomfich = \"f_ventas1.txt\"\n",
    "df_ventas = pd.read_csv(ruta+nomfich, sep=';', header='infer')\n",
    "df_ventas.head(10)"
   ]
  },
  {
   "cell_type": "markdown",
   "metadata": {},
   "source": [
    "Tratamiento de decimales"
   ]
  },
  {
   "cell_type": "code",
   "execution_count": null,
   "metadata": {},
   "outputs": [],
   "source": [
    "# En este fichero el separador de decimales es .\n",
    "df_ven = pd.read_csv(\"ficheros\\\\f_ventas_dec1.txt\",\n",
    "                 sep=';', header='infer')\n",
    "df_ven.head(10)"
   ]
  },
  {
   "cell_type": "code",
   "execution_count": null,
   "metadata": {},
   "outputs": [],
   "source": [
    "df_ven.dtypes"
   ]
  },
  {
   "cell_type": "code",
   "execution_count": null,
   "metadata": {},
   "outputs": [],
   "source": [
    "# En este fochero el separador de decimales es ,. Esto hay que indicarlo como opción de lectura\n",
    "df_ven = pd.read_csv(\"ficheros\\\\f_ventas_dec2.txt\",\n",
    "                 sep=';', header='infer', decimal=\",\")\n",
    "df_ven.head(10)"
   ]
  },
  {
   "cell_type": "code",
   "execution_count": null,
   "metadata": {},
   "outputs": [],
   "source": [
    "df_ven.dtypes"
   ]
  },
  {
   "cell_type": "markdown",
   "metadata": {},
   "source": [
    "Lectura desde fichero Excel"
   ]
  },
  {
   "cell_type": "code",
   "execution_count": null,
   "metadata": {},
   "outputs": [],
   "source": [
    "df_ventas1 = pd.read_excel(\"ficheros\\\\f_ventas1.xlsx\")\n",
    "df_ventas1.head(10)"
   ]
  },
  {
   "cell_type": "markdown",
   "metadata": {},
   "source": [
    "Acceder a una columna"
   ]
  },
  {
   "cell_type": "code",
   "execution_count": null,
   "metadata": {},
   "outputs": [],
   "source": [
    "#Tabla completa\n",
    "df_clientes"
   ]
  },
  {
   "cell_type": "code",
   "execution_count": null,
   "metadata": {
    "scrolled": true
   },
   "outputs": [],
   "source": [
    "# acceder a una columna:\n",
    "print(df_clientes['nombre'])\n",
    "print(df_clientes.nombre)"
   ]
  },
  {
   "cell_type": "markdown",
   "metadata": {},
   "source": [
    "__Añadir__ columnas"
   ]
  },
  {
   "cell_type": "code",
   "execution_count": null,
   "metadata": {},
   "outputs": [],
   "source": [
    "df_clientes['ciudad'] = \"Lugo\"\n",
    "df_clientes['ciudad'] = [\"Lugo\",\"Murcia\",\"León\", \"Soria\"]\n",
    "df_clientes"
   ]
  },
  {
   "cell_type": "code",
   "execution_count": null,
   "metadata": {},
   "outputs": [],
   "source": [
    "df_clientes['ingresos'] = [40,30,35,28]\n",
    "df_clientes['costes'] = [10,8,11,9]\n",
    "df_clientes['margen'] = df_clientes['ingresos'] - df_clientes['costes']\n",
    "df_clientes['fec'] = '31012019'\n",
    "df_clientes['año'] = df_clientes['fec'].str[-4:]\n",
    "df_clientes"
   ]
  },
  {
   "cell_type": "code",
   "execution_count": null,
   "metadata": {},
   "outputs": [],
   "source": [
    "df_clientes.dtypes"
   ]
  },
  {
   "cell_type": "markdown",
   "metadata": {},
   "source": [
    "Tratamiento de fechas"
   ]
  },
  {
   "cell_type": "code",
   "execution_count": null,
   "metadata": {},
   "outputs": [],
   "source": [
    "df_clientes['fec'] = pd.to_datetime(df_clientes['fec'], format=\"%d%m%Y\") # paso de string a datetime\n",
    "df_clientes.dtypes"
   ]
  },
  {
   "cell_type": "markdown",
   "metadata": {},
   "source": [
    "Si el formato fuera 'yyyy-mm-dd' se podría transformar con el médtodo astype"
   ]
  },
  {
   "cell_type": "code",
   "execution_count": null,
   "metadata": {},
   "outputs": [],
   "source": [
    "df_clientes['fec_d'] = '2020-02-15'\n",
    "df_clientes['fec_d'] = df_clientes['fec_d'].astype('datetime64[ns]') # solo valido en formato 'yyyy-mm-dd'\n",
    "df_clientes"
   ]
  },
  {
   "cell_type": "code",
   "execution_count": null,
   "metadata": {},
   "outputs": [],
   "source": [
    "df_clientes['fec'] = fimpd.to_datetime(df_clientes['fec'], format=\"%d%m%Y\") # paso de string a datetime\n",
    "df_clientes['fec2'] = df_clientes['fec'].dt.strftime('%d/%m/%y') # paso de datetime a string\n",
    "df_clientes"
   ]
  },
  {
   "cell_type": "code",
   "execution_count": null,
   "metadata": {},
   "outputs": [],
   "source": [
    "df_clientes['edad_s1'] = df_clientes['edad'].astype('str')"
   ]
  },
  {
   "cell_type": "code",
   "execution_count": null,
   "metadata": {},
   "outputs": [],
   "source": [
    "df_clientes, df_clientes.dtypes"
   ]
  },
  {
   "cell_type": "markdown",
   "metadata": {},
   "source": [
    "__Eliminar__ columna"
   ]
  },
  {
   "cell_type": "markdown",
   "metadata": {},
   "source": [
    "Para acceder a métodos propios de string o datetime añadir .str o .dt"
   ]
  },
  {
   "cell_type": "code",
   "execution_count": null,
   "metadata": {},
   "outputs": [],
   "source": [
    "df_clientes['año'] = df_clientes['fec'].dt.year\n",
    "df_clientes['nombre'] = df_clientes['nombre'].str.upper()\n",
    "df_clientes['lon_nombre'] = df_clientes['nombre'].str.len()\n",
    "df_clientes['inicial'] = df_clientes['nombre'].str[0:1]\n",
    "#df_clientes['fec'].dt.month\n",
    "#df_clientes['fec'].dt.day\n",
    "df_clientes"
   ]
  },
  {
   "cell_type": "code",
   "execution_count": null,
   "metadata": {},
   "outputs": [],
   "source": [
    "#eliminar columna\n",
    "del df_clientes['año']\n",
    "#df_clientes = df_clientes.drop('año', 1)\n",
    "df_clientes"
   ]
  },
  {
   "cell_type": "markdown",
   "metadata": {},
   "source": [
    "Conversión de tipos"
   ]
  },
  {
   "cell_type": "code",
   "execution_count": null,
   "metadata": {},
   "outputs": [],
   "source": [
    "df_clientes.dtypes"
   ]
  },
  {
   "cell_type": "code",
   "execution_count": null,
   "metadata": {},
   "outputs": [],
   "source": [
    "df_clientes['edad_s']=df_clientes['edad'].astype('str')\n",
    "df_clientes.dtypes # comprobamos los tipos"
   ]
  },
  {
   "cell_type": "markdown",
   "metadata": {},
   "source": [
    "Aplicar __transformaciones__ en pandas con __funciones__"
   ]
  },
  {
   "cell_type": "code",
   "execution_count": null,
   "metadata": {},
   "outputs": [],
   "source": [
    "#Función apply para aplicar transformaciones\n",
    "# bajo < 10, medio (10-25), alto ( > 25)\n",
    "def rangos(val):\n",
    "    if val <= 10:\n",
    "        rango='bajo'\n",
    "    elif val > 10 and val <= 25:\n",
    "        rango = 'medio'\n",
    "    else:\n",
    "        rango='alto'\n",
    "    return(rango)\n",
    "\n",
    "df_clientes['rango_margen']=df_clientes['margen'].apply(rangos)"
   ]
  },
  {
   "cell_type": "code",
   "execution_count": null,
   "metadata": {},
   "outputs": [],
   "source": [
    "df_clientes"
   ]
  },
  {
   "cell_type": "code",
   "execution_count": null,
   "metadata": {},
   "outputs": [],
   "source": [
    "df_clientes"
   ]
  },
  {
   "cell_type": "markdown",
   "metadata": {},
   "source": [
    "Lo mismo, pero con función Lambda"
   ]
  },
  {
   "cell_type": "code",
   "execution_count": null,
   "metadata": {},
   "outputs": [],
   "source": [
    "# lo mismo, pero con función lambda\n",
    "f = lambda x : 'alto' if x >= 25 else 'bajo'\n",
    "\n",
    "df_clientes['rango_margen']=df_clientes['margen'].apply(f)\n",
    "df_clientes['rango_margen3']=df_clientes['margen'].apply(lambda x: 'alto' if x >= 25 else 'bajo' )"
   ]
  },
  {
   "cell_type": "code",
   "execution_count": null,
   "metadata": {},
   "outputs": [],
   "source": [
    "df_clientes"
   ]
  },
  {
   "cell_type": "markdown",
   "metadata": {},
   "source": [
    "Método plot para gráficas"
   ]
  },
  {
   "cell_type": "code",
   "execution_count": null,
   "metadata": {},
   "outputs": [],
   "source": [
    "df_clientes.plot.scatter('ingresos', 'margen')"
   ]
  },
  {
   "cell_type": "code",
   "execution_count": null,
   "metadata": {},
   "outputs": [],
   "source": [
    "df_clientes.plot.bar('nombre', 'margen')"
   ]
  },
  {
   "cell_type": "markdown",
   "metadata": {},
   "source": [
    "Tratar todas las columnas de un dataframe"
   ]
  },
  {
   "cell_type": "code",
   "execution_count": null,
   "metadata": {},
   "outputs": [],
   "source": [
    "#tratar todas las columnas en un bucle:\n",
    "print(type(df_clientes.columns))\n",
    "for col in df_clientes.columns:\n",
    "    print(col)"
   ]
  },
  {
   "cell_type": "code",
   "execution_count": null,
   "metadata": {},
   "outputs": [],
   "source": [
    "df_clientes.columns"
   ]
  },
  {
   "cell_type": "code",
   "execution_count": null,
   "metadata": {},
   "outputs": [],
   "source": [
    "for col in df_clientes.columns:\n",
    "    print(col)\n",
    "    if col == 'ciudad':\n",
    "        df_clientes[col] = df_clientes[col] + \" ( España)\"\n",
    "df_clientes"
   ]
  },
  {
   "cell_type": "markdown",
   "metadata": {},
   "source": [
    "El paso por __referencia__ también nos afecta en dataframe"
   ]
  },
  {
   "cell_type": "code",
   "execution_count": null,
   "metadata": {},
   "outputs": [],
   "source": [
    "df_clientes"
   ]
  },
  {
   "cell_type": "code",
   "execution_count": null,
   "metadata": {},
   "outputs": [],
   "source": [
    "#df_clientes3 = df_clientes # otra opción mejor: df_clientes.copy()\n",
    "df_clientes3 = df_clientes.copy()\n",
    "df_clientes['nombre'] = ['Pepe', 'Luis M.', 'Pilar J.', 'Ana Z.']\n",
    "df_clientes3 "
   ]
  },
  {
   "cell_type": "markdown",
   "metadata": {},
   "source": [
    "Método __loc__ para filtrar filas y columnas"
   ]
  },
  {
   "cell_type": "code",
   "execution_count": null,
   "metadata": {},
   "outputs": [],
   "source": [
    "# fila 0 columna nombre. \n",
    "df_clientes2 = df_clientes.loc[0,'nombre']\n",
    "df_clientes2"
   ]
  },
  {
   "cell_type": "code",
   "execution_count": null,
   "metadata": {},
   "outputs": [],
   "source": [
    "# filas 0 a 2 columnas nombre y ciudad\n",
    "df_clientes2 = df_clientes.loc[0:2,['nombre', 'ciudad']]\n",
    "df_clientes2"
   ]
  },
  {
   "cell_type": "code",
   "execution_count": null,
   "metadata": {},
   "outputs": [],
   "source": [
    "# todas las filas columnas nombre y ciudad\n",
    "df_clientes2 = df_clientes.loc[:,['nombre', 'ciudad']].copy()\n",
    "df_clientes2"
   ]
  },
  {
   "cell_type": "markdown",
   "metadata": {},
   "source": [
    "Filtrar solo columnas de un tipo"
   ]
  },
  {
   "cell_type": "code",
   "execution_count": null,
   "metadata": {},
   "outputs": [],
   "source": [
    "# filtrar columnas de un tipo (string)\n",
    "df_clientes2 = df_clientes.loc[: ,  df_clientes.dtypes == object]\n",
    "df_clientes2"
   ]
  },
  {
   "cell_type": "code",
   "execution_count": null,
   "metadata": {},
   "outputs": [],
   "source": [
    "df_clientes"
   ]
  },
  {
   "cell_type": "code",
   "execution_count": null,
   "metadata": {},
   "outputs": [],
   "source": [
    "df_clientes2 = df_clientes.loc[df_clientes['edad'] > 35, :]\n",
    "df_clientes2"
   ]
  },
  {
   "cell_type": "markdown",
   "metadata": {},
   "source": [
    "Otra opción es emplear el método __iloc__\n"
   ]
  },
  {
   "cell_type": "code",
   "execution_count": null,
   "metadata": {},
   "outputs": [],
   "source": [
    "# fila 0 columna 0 nombre\n",
    "df_clientes2 = df_clientes.iloc[0,0]\n",
    "# filas 0 a 2 columnas 0 y 1 nombre y ciudad\n",
    "df_clientes2 = df_clientes.iloc[0:2,[0,1]]\n",
    "df_clientes2"
   ]
  },
  {
   "cell_type": "markdown",
   "metadata": {},
   "source": [
    "Bucle para recorrer un dataframe usando loc"
   ]
  },
  {
   "cell_type": "code",
   "execution_count": null,
   "metadata": {},
   "outputs": [],
   "source": [
    "for i in range(len(df_clientes)):\n",
    "    print(df_clientes.iloc[i,:])"
   ]
  },
  {
   "cell_type": "markdown",
   "metadata": {},
   "source": [
    "__Filtrar filas__ en un dataframe"
   ]
  },
  {
   "cell_type": "code",
   "execution_count": null,
   "metadata": {},
   "outputs": [],
   "source": [
    "# filtrado por condición\n",
    "df_clientes[df_clientes.nombre==\"Ana\"]"
   ]
  },
  {
   "cell_type": "markdown",
   "metadata": {},
   "source": [
    "Podemos usar el método query también"
   ]
  },
  {
   "cell_type": "code",
   "execution_count": null,
   "metadata": {},
   "outputs": [],
   "source": [
    "df_clientes.query(\"nombre=='Ana'\")"
   ]
  },
  {
   "cell_type": "markdown",
   "metadata": {},
   "source": [
    "Con __timeit__ podemos comparar tiempos"
   ]
  },
  {
   "cell_type": "code",
   "execution_count": null,
   "metadata": {},
   "outputs": [],
   "source": [
    "%%timeit\n",
    "df_clientes.query(\"nombre=='Ana'\")"
   ]
  },
  {
   "cell_type": "code",
   "execution_count": null,
   "metadata": {},
   "outputs": [],
   "source": [
    "%%timeit\n",
    "df_clientes[df_clientes.nombre==\"Ana\"]"
   ]
  },
  {
   "cell_type": "code",
   "execution_count": null,
   "metadata": {},
   "outputs": [],
   "source": [
    "df_clientes[df_clientes.nombre==\"Ana\"][['nombre', 'edad']]"
   ]
  },
  {
   "cell_type": "code",
   "execution_count": null,
   "metadata": {},
   "outputs": [],
   "source": [
    "# filtrado por condición\n",
    "df_clientes[df_clientes.margen >=20]"
   ]
  },
  {
   "cell_type": "code",
   "execution_count": null,
   "metadata": {
    "scrolled": true
   },
   "outputs": [],
   "source": [
    "df_clientes[df_clientes.ingresos.isin([10,30,40])]"
   ]
  },
  {
   "cell_type": "code",
   "execution_count": null,
   "metadata": {
    "scrolled": false
   },
   "outputs": [],
   "source": [
    "# filtrado por condición  NOT IN \n",
    "# ~ también ALT GR + 4 y luego el caracter\n",
    "\n",
    "df_clientes[~df_clientes.ingresos.isin([10,30,40])]\n",
    "#df_clientes[np.logical_not(df_clientes.ingresos.isin([10,30,40]))]"
   ]
  },
  {
   "cell_type": "code",
   "execution_count": null,
   "metadata": {},
   "outputs": [],
   "source": [
    "# filtrado por condición\n",
    "df_clientes[df_clientes.ciudad==\"Murcia ( España)\"][['nombre','edad']]"
   ]
  },
  {
   "cell_type": "markdown",
   "metadata": {},
   "source": [
    "__Ordenar__ un dataframe"
   ]
  },
  {
   "cell_type": "markdown",
   "metadata": {},
   "source": [
    "Método sort"
   ]
  },
  {
   "cell_type": "code",
   "execution_count": null,
   "metadata": {},
   "outputs": [],
   "source": [
    "df_clientes.sort_values(by = 'nombre') # ordenar por nombre"
   ]
  },
  {
   "cell_type": "code",
   "execution_count": null,
   "metadata": {},
   "outputs": [],
   "source": [
    "df_clientes.sort_values(by = 'margen', ascending = False) # descendente"
   ]
  },
  {
   "cell_type": "code",
   "execution_count": null,
   "metadata": {},
   "outputs": [],
   "source": [
    "# Ordenar y filtrar campos\n",
    "df_clientes.sort_values(by = 'nombre')[['nombre','ciudad']]"
   ]
  },
  {
   "cell_type": "code",
   "execution_count": null,
   "metadata": {},
   "outputs": [],
   "source": [
    "df_clientes.sort_index() # ordenar por indice"
   ]
  },
  {
   "cell_type": "markdown",
   "metadata": {},
   "source": [
    "Varios campos. Combinar ascendente y descendente"
   ]
  },
  {
   "cell_type": "code",
   "execution_count": null,
   "metadata": {},
   "outputs": [],
   "source": [
    "df_clientes.sort_values(by=['nombre', 'ciudad'], ascending=[True,False])"
   ]
  },
  {
   "cell_type": "markdown",
   "metadata": {},
   "source": [
    "__Renombrado__ de columnas"
   ]
  },
  {
   "cell_type": "code",
   "execution_count": null,
   "metadata": {},
   "outputs": [],
   "source": [
    "#Renombrado de columnas:\n",
    "df_clientes2 = df_clientes.rename(columns={\"rango_margen\": \"rango_mar\"})\n",
    "df_clientes2"
   ]
  },
  {
   "cell_type": "markdown",
   "metadata": {},
   "source": [
    "Crear __rangos__"
   ]
  },
  {
   "cell_type": "code",
   "execution_count": null,
   "metadata": {},
   "outputs": [],
   "source": [
    "bins = [0,20,25,30]\n",
    "df_clientes['rango_mar2'] = pd.cut(df_clientes['margen'], bins,\n",
    "         labels=False)\n",
    "df_clientes"
   ]
  },
  {
   "cell_type": "code",
   "execution_count": null,
   "metadata": {},
   "outputs": [],
   "source": [
    "df_clientes['rango_mar2'].value_counts()"
   ]
  },
  {
   "cell_type": "markdown",
   "metadata": {},
   "source": [
    "Valores únicos"
   ]
  },
  {
   "cell_type": "code",
   "execution_count": null,
   "metadata": {},
   "outputs": [],
   "source": [
    "df_clientes['rango_mar2'].unique"
   ]
  },
  {
   "cell_type": "markdown",
   "metadata": {},
   "source": [
    "Rangos incluyendo label"
   ]
  },
  {
   "cell_type": "code",
   "execution_count": null,
   "metadata": {},
   "outputs": [],
   "source": [
    "bins = [0,20,25,30]\n",
    "df_clientes['rango_mar2'] = pd.cut(df_clientes['margen'], bins,\n",
    "         labels=['bajo', 'medio', 'alto'])\n",
    "df_clientes"
   ]
  },
  {
   "cell_type": "code",
   "execution_count": null,
   "metadata": {},
   "outputs": [],
   "source": [
    "def rangos_mar(val):\n",
    "    if val <= 20:\n",
    "        rango=0\n",
    "    elif val <= 25:\n",
    "        rango = 1\n",
    "    elif val <= 30:\n",
    "        rango = 2\n",
    "    else:\n",
    "        rango = 3\n",
    "    return(rango)\n",
    "df_clientes['rango_mar3']=df_clientes['margen'].apply(rangos_mar)\n",
    "df_clientes"
   ]
  },
  {
   "cell_type": "markdown",
   "metadata": {},
   "source": [
    "Modificar sólo una parte del df"
   ]
  },
  {
   "cell_type": "code",
   "execution_count": null,
   "metadata": {},
   "outputs": [],
   "source": [
    "df_clientes2 = df_clientes.copy()"
   ]
  },
  {
   "cell_type": "code",
   "execution_count": null,
   "metadata": {},
   "outputs": [],
   "source": [
    "df_clientes2.loc[0:1,'año'] = df_clientes.loc[0:1,'año'] + 1"
   ]
  },
  {
   "cell_type": "code",
   "execution_count": null,
   "metadata": {},
   "outputs": [],
   "source": [
    "df_clientes2"
   ]
  },
  {
   "cell_type": "markdown",
   "metadata": {},
   "source": [
    "__Pivotar__ tablas"
   ]
  },
  {
   "cell_type": "code",
   "execution_count": null,
   "metadata": {
    "scrolled": true
   },
   "outputs": [],
   "source": [
    "df_clientes.pivot_table(values='edad', index='nombre', columns='ciudad') "
   ]
  },
  {
   "cell_type": "markdown",
   "metadata": {},
   "source": [
    "Métodos para obtener __estadísticos__"
   ]
  },
  {
   "cell_type": "code",
   "execution_count": null,
   "metadata": {},
   "outputs": [],
   "source": [
    "df_clientes"
   ]
  },
  {
   "cell_type": "code",
   "execution_count": null,
   "metadata": {},
   "outputs": [],
   "source": [
    "df_clientes.pivot_table(values=['edad', 'margen'], index='nombre', columns='ciudad') "
   ]
  },
  {
   "cell_type": "code",
   "execution_count": null,
   "metadata": {
    "scrolled": true
   },
   "outputs": [],
   "source": [
    "#Estadísticos:\n",
    "df_clientes.describe()"
   ]
  },
  {
   "cell_type": "code",
   "execution_count": null,
   "metadata": {},
   "outputs": [],
   "source": [
    "df_clientes['ciudad'].describe()"
   ]
  },
  {
   "cell_type": "code",
   "execution_count": null,
   "metadata": {},
   "outputs": [],
   "source": [
    "df_clientes['edad'].mean()"
   ]
  },
  {
   "cell_type": "code",
   "execution_count": null,
   "metadata": {},
   "outputs": [],
   "source": [
    "df_clientes['ingresos'].sum()"
   ]
  },
  {
   "cell_type": "code",
   "execution_count": null,
   "metadata": {},
   "outputs": [],
   "source": [
    "df_clientes['ingresos'].cumsum()"
   ]
  },
  {
   "cell_type": "code",
   "execution_count": null,
   "metadata": {},
   "outputs": [],
   "source": [
    "df_clientes['ingresos'].quantile(0.5)"
   ]
  },
  {
   "cell_type": "code",
   "execution_count": null,
   "metadata": {},
   "outputs": [],
   "source": [
    "Q1 = df_clientes['ingresos'].quantile(0.25)\n",
    "Q1"
   ]
  },
  {
   "cell_type": "code",
   "execution_count": null,
   "metadata": {},
   "outputs": [],
   "source": [
    "Q2 = df_clientes['ingresos'].quantile(0.75)\n",
    "Q2"
   ]
  },
  {
   "cell_type": "code",
   "execution_count": null,
   "metadata": {},
   "outputs": [],
   "source": [
    "df_clientes['ingresos'].hist()"
   ]
  },
  {
   "cell_type": "markdown",
   "metadata": {},
   "source": [
    "__Tablas cruzadas__ crosstab"
   ]
  },
  {
   "cell_type": "code",
   "execution_count": null,
   "metadata": {},
   "outputs": [],
   "source": [
    "#Conteo\n",
    "pd.crosstab(df_ventas['oficina'], df_ventas['producto'])"
   ]
  },
  {
   "cell_type": "code",
   "execution_count": null,
   "metadata": {},
   "outputs": [],
   "source": [
    "#Funciones de agregación\n",
    "pd.crosstab(df_ventas['oficina'], df_ventas['producto'], values=df_ventas['unidades'], aggfunc='sum')"
   ]
  },
  {
   "cell_type": "code",
   "execution_count": null,
   "metadata": {},
   "outputs": [],
   "source": [
    "df_ventas.hed()"
   ]
  },
  {
   "cell_type": "markdown",
   "metadata": {},
   "source": [
    "Obtener __agregados__"
   ]
  },
  {
   "cell_type": "code",
   "execution_count": null,
   "metadata": {},
   "outputs": [],
   "source": [
    "df_ventas['unidades'].mean()"
   ]
  },
  {
   "cell_type": "code",
   "execution_count": null,
   "metadata": {},
   "outputs": [],
   "source": [
    "df_ventas"
   ]
  },
  {
   "cell_type": "code",
   "execution_count": null,
   "metadata": {},
   "outputs": [],
   "source": [
    "#agregados\n",
    "# sumatorio y valor medio por oficina\n",
    "df_ventas.groupby(['oficina']).sum()"
   ]
  },
  {
   "cell_type": "code",
   "execution_count": null,
   "metadata": {},
   "outputs": [],
   "source": [
    "df_ventas.groupby(['oficina']).sum()[['unidades']]\n",
    "#df_ventas.groupby(['oficina']).sum()[['unidades', 'margen']]"
   ]
  },
  {
   "cell_type": "code",
   "execution_count": null,
   "metadata": {},
   "outputs": [],
   "source": [
    "# si no queremos que los campos de agrupación sean índice\n",
    "df_ventas.groupby(['oficina'], as_index=False).sum()[['oficina','unidades']]"
   ]
  },
  {
   "cell_type": "code",
   "execution_count": null,
   "metadata": {},
   "outputs": [],
   "source": [
    "df_ventas.groupby(['oficina']).agg(['sum', 'mean'])[['unidades']]"
   ]
  },
  {
   "cell_type": "code",
   "execution_count": null,
   "metadata": {},
   "outputs": [],
   "source": [
    "df_ventas.groupby(['oficina']).agg(\n",
    "  avg_unidades = ('unidades', 'mean'),\n",
    "  sum_distance = ('unidades', 'sum')\n",
    ")"
   ]
  },
  {
   "cell_type": "code",
   "execution_count": null,
   "metadata": {},
   "outputs": [],
   "source": [
    "# Organización interna de un grupo\n",
    "grupos = df_ventas.groupby(['oficina'])\n",
    "for n, grupo in grupos:\n",
    "    print(n)\n",
    "    print(grupo)"
   ]
  },
  {
   "cell_type": "code",
   "execution_count": null,
   "metadata": {},
   "outputs": [],
   "source": [
    "df_ventas"
   ]
  },
  {
   "cell_type": "code",
   "execution_count": null,
   "metadata": {},
   "outputs": [],
   "source": [
    "df_ventas.groupby(['oficina']).sum().unidades"
   ]
  },
  {
   "cell_type": "code",
   "execution_count": null,
   "metadata": {},
   "outputs": [],
   "source": [
    "# añadir un having \n",
    "res = df_ventas.groupby(['oficina']).sum()['unidades']\n",
    "res [ res > 100]"
   ]
  },
  {
   "cell_type": "code",
   "execution_count": null,
   "metadata": {},
   "outputs": [],
   "source": [
    "df_ventas.groupby(['oficina']).unidades.sum()"
   ]
  },
  {
   "cell_type": "code",
   "execution_count": null,
   "metadata": {},
   "outputs": [],
   "source": [
    "df_ventas.groupby(['oficina']).mean().round(2)"
   ]
  },
  {
   "cell_type": "markdown",
   "metadata": {},
   "source": [
    "Manejar __grupos__"
   ]
  },
  {
   "cell_type": "code",
   "execution_count": null,
   "metadata": {},
   "outputs": [],
   "source": [
    "grupos = df_ventas.groupby(['oficina','producto'])\n",
    "for n, grupo in grupos:\n",
    "    print(n)\n",
    "    print(grupo)"
   ]
  },
  {
   "cell_type": "markdown",
   "metadata": {},
   "source": [
    "__Exportar__ a fichero csv"
   ]
  },
  {
   "cell_type": "code",
   "execution_count": null,
   "metadata": {},
   "outputs": [],
   "source": [
    "df_ventas"
   ]
  },
  {
   "cell_type": "markdown",
   "metadata": {},
   "source": [
    "Graficos"
   ]
  },
  {
   "cell_type": "code",
   "execution_count": null,
   "metadata": {},
   "outputs": [],
   "source": [
    "#plot muestra las métricas en altura de barras frente a los valores del índice\n",
    "df_ventas.groupby(['oficina']).sum().plot(kind=\"bar\")"
   ]
  },
  {
   "cell_type": "code",
   "execution_count": null,
   "metadata": {},
   "outputs": [],
   "source": [
    "ax = df_ventas.groupby(['oficina']).sum().plot(kind=\"bar\")\n",
    "ax.set_title(\"Ventas por oficina\", fontsize=12)\n",
    "ax.set_ylabel(\"Unidades vendidas\", fontsize=12)\n",
    "ax.set_xlabel(\"Oficina\", fontsize=12)"
   ]
  },
  {
   "cell_type": "code",
   "execution_count": null,
   "metadata": {},
   "outputs": [],
   "source": [
    "type(ax)"
   ]
  },
  {
   "cell_type": "code",
   "execution_count": null,
   "metadata": {},
   "outputs": [],
   "source": [
    "df_ventas.groupby(['producto']).sum().plot(kind=\"bar\")"
   ]
  },
  {
   "cell_type": "code",
   "execution_count": null,
   "metadata": {},
   "outputs": [],
   "source": [
    "df_ventas.to_csv(\"ficheros\\\\export_df1.txt\", index=False)"
   ]
  },
  {
   "cell_type": "code",
   "execution_count": null,
   "metadata": {},
   "outputs": [],
   "source": [
    "#exportación a Excel\n",
    "df_ventas.to_excel(\"ficheros\\\\expexcel_df1.xlsx\", index=False)"
   ]
  },
  {
   "cell_type": "code",
   "execution_count": null,
   "metadata": {},
   "outputs": [],
   "source": [
    "#exportacion a JSON\n",
    "df_ventas.to_json(\"C:\\\\trabajo\\\\cursos estandar\\\\Phyton\\\\ficheros\\\\expjson_df1.json\")"
   ]
  },
  {
   "cell_type": "code",
   "execution_count": null,
   "metadata": {},
   "outputs": [],
   "source": [
    "#exportacion a JSON con otra orientación (tabla)\n",
    "df_ventas.to_json(\"ficheros\\\\ventas.json\", orient='table')"
   ]
  },
  {
   "cell_type": "markdown",
   "metadata": {},
   "source": [
    "Lectura desde tablas SAS"
   ]
  },
  {
   "cell_type": "code",
   "execution_count": null,
   "metadata": {},
   "outputs": [],
   "source": [
    "df = pd.read_sas(\"ficheros\\\\customer1.sas7bdat\", format='sas7bdat', encoding = 'latin-1')\n",
    "df.head()"
   ]
  },
  {
   "cell_type": "markdown",
   "metadata": {},
   "source": [
    "Lectura desde JSON"
   ]
  },
  {
   "cell_type": "code",
   "execution_count": null,
   "metadata": {},
   "outputs": [],
   "source": [
    "df_lc = pd.read_json(\"ficheros\\\\localizaciones.json\")\n",
    "df_lc.head(5)"
   ]
  },
  {
   "cell_type": "code",
   "execution_count": null,
   "metadata": {},
   "outputs": [],
   "source": [
    "df_iris = pd.read_json(\"https://raw.githubusercontent.com/domoritz/maps/master/data/iris.json\")\n",
    "df_iris.head(5)"
   ]
  },
  {
   "cell_type": "code",
   "execution_count": null,
   "metadata": {},
   "outputs": [],
   "source": [
    "#pasar de df a lista de diccionarios\n",
    "lisdoc = df_ventas.to_dict(orient='records')"
   ]
  },
  {
   "cell_type": "code",
   "execution_count": null,
   "metadata": {
    "scrolled": true
   },
   "outputs": [],
   "source": [
    "lisdoc"
   ]
  },
  {
   "cell_type": "code",
   "execution_count": null,
   "metadata": {},
   "outputs": [],
   "source": [
    "lis_d = df_ventas.values.tolist()\n",
    "lis_d"
   ]
  },
  {
   "cell_type": "markdown",
   "metadata": {},
   "source": [
    "Creación de data frames en base a rangos de valores"
   ]
  },
  {
   "cell_type": "code",
   "execution_count": null,
   "metadata": {},
   "outputs": [],
   "source": [
    "date_from = \"2020-01-01\"\n",
    "date_to = \"2020-01-05\"\n",
    "fechas = pd.date_range(date_from, date_to, freq=\"D\")\n",
    "fechas"
   ]
  },
  {
   "cell_type": "code",
   "execution_count": null,
   "metadata": {},
   "outputs": [],
   "source": [
    "df = pd.DataFrame(fechas, columns=['fec'])\n",
    "df"
   ]
  },
  {
   "cell_type": "code",
   "execution_count": null,
   "metadata": {},
   "outputs": [],
   "source": [
    "df['ventas'] = range(1,6)\n",
    "df"
   ]
  },
  {
   "cell_type": "markdown",
   "metadata": {},
   "source": [
    "Obtener datos de una __BBDD__. Antes hacer: conda install -c anaconda mysql-connector-python "
   ]
  },
  {
   "cell_type": "code",
   "execution_count": null,
   "metadata": {},
   "outputs": [],
   "source": [
    "import mysql.connector"
   ]
  },
  {
   "cell_type": "code",
   "execution_count": null,
   "metadata": {},
   "outputs": [],
   "source": [
    "import mysql.connector\n",
    "connmysql = mysql.connector.connect(\n",
    "  host=\"localhost\",\n",
    "  user=\"root\",\n",
    "  passwd=\"root\",\n",
    "  use_pure = True\n",
    ")\n",
    "print(connmysql)"
   ]
  },
  {
   "cell_type": "code",
   "execution_count": null,
   "metadata": {},
   "outputs": [],
   "source": [
    "cursordb = connmysql.cursor()\n",
    "sql = \"select cod_tarifa, cod_cliente, hc_consumo FROM dwh_consumo.hc_consumo\"\n",
    "cursordb.execute(sql)\n",
    "res = cursordb.fetchall() #lista de tuplas\n",
    "\n",
    "df = pd.DataFrame(res, columns=['cod_tarifa', 'cod_cliente', 'hc_consumo'])"
   ]
  },
  {
   "cell_type": "code",
   "execution_count": null,
   "metadata": {},
   "outputs": [],
   "source": [
    "df"
   ]
  },
  {
   "cell_type": "code",
   "execution_count": null,
   "metadata": {},
   "outputs": [],
   "source": []
  }
 ],
 "metadata": {
  "kernelspec": {
   "display_name": "Python 3 (ipykernel)",
   "language": "python",
   "name": "python3"
  },
  "language_info": {
   "codemirror_mode": {
    "name": "ipython",
    "version": 3
   },
   "file_extension": ".py",
   "mimetype": "text/x-python",
   "name": "python",
   "nbconvert_exporter": "python",
   "pygments_lexer": "ipython3",
   "version": "3.9.7"
  }
 },
 "nbformat": 4,
 "nbformat_minor": 2
}
